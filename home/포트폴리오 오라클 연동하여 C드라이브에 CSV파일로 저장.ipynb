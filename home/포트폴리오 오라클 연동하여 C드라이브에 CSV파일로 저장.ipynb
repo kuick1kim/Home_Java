{
 "cells": [
  {
   "cell_type": "code",
   "execution_count": 86,
   "id": "16515281",
   "metadata": {},
   "outputs": [],
   "source": [
    "# https://rk1993.tistory.com/entry/Python%ED%8C%8C%EC%9D%B4%EC%8D%AC%EC%97%90%EC%84%9C-Oracle-DB-%EC%97%B0%EB%8F%99%ED%95%98%EB%8A%94-%EB%B0%A9%EB%B2%95\n",
    "# https://kaikaikai.tistory.com/68?category=943368\n",
    "# \n"
   ]
  },
  {
   "cell_type": "code",
   "execution_count": 87,
   "id": "f9601362",
   "metadata": {},
   "outputs": [],
   "source": [
    "import cx_Oracle\n",
    "import os\n",
    "\n",
    "os.putenv('NLS_LANG', '.UTF8')#한글\n",
    "\n",
    "LOCATION = r\"C:\\instantclient_19_12\"\n",
    "\n",
    "os.environ[\"PATH\"] = LOCATION + \";\" + os.environ[\"PATH\"] #환경변수 등록"
   ]
  },
  {
   "cell_type": "code",
   "execution_count": null,
   "id": "60a4418d",
   "metadata": {},
   "outputs": [],
   "source": []
  },
  {
   "cell_type": "code",
   "execution_count": null,
   "id": "dcec8373",
   "metadata": {},
   "outputs": [],
   "source": [
    "\n",
    "\n",
    "connection = cx_Oracle.connect('bg','bg','localhost:1521/XE')\n",
    "\n",
    "# localhost:1521:XE 아이디 넣고 비번넣고\n",
    "cursor = connection.cursor()"
   ]
  },
  {
   "cell_type": "code",
   "execution_count": null,
   "id": "873008bd",
   "metadata": {},
   "outputs": [],
   "source": [
    "\n"
   ]
  },
  {
   "cell_type": "code",
   "execution_count": 79,
   "id": "6cced9f1",
   "metadata": {},
   "outputs": [
    {
     "data": {
      "text/html": [
       "<div>\n",
       "<style scoped>\n",
       "    .dataframe tbody tr th:only-of-type {\n",
       "        vertical-align: middle;\n",
       "    }\n",
       "\n",
       "    .dataframe tbody tr th {\n",
       "        vertical-align: top;\n",
       "    }\n",
       "\n",
       "    .dataframe thead th {\n",
       "        text-align: right;\n",
       "    }\n",
       "</style>\n",
       "<table border=\"1\" class=\"dataframe\">\n",
       "  <thead>\n",
       "    <tr style=\"text-align: right;\">\n",
       "      <th></th>\n",
       "      <th>0</th>\n",
       "      <th>1</th>\n",
       "      <th>2</th>\n",
       "      <th>3</th>\n",
       "      <th>4</th>\n",
       "    </tr>\n",
       "  </thead>\n",
       "  <tbody>\n",
       "    <tr>\n",
       "      <th>0</th>\n",
       "      <td>cha2</td>\n",
       "      <td>123</td>\n",
       "      <td>차두리</td>\n",
       "      <td>cha2@test.com</td>\n",
       "      <td>2021-09-16 11:56:26</td>\n",
       "    </tr>\n",
       "    <tr>\n",
       "      <th>1</th>\n",
       "      <td>park</td>\n",
       "      <td>123</td>\n",
       "      <td>박지성</td>\n",
       "      <td>park@test.com</td>\n",
       "      <td>2021-09-16 11:56:02</td>\n",
       "    </tr>\n",
       "    <tr>\n",
       "      <th>2</th>\n",
       "      <td>cha1</td>\n",
       "      <td>123</td>\n",
       "      <td>차범근</td>\n",
       "      <td>cha1@test.com</td>\n",
       "      <td>2021-09-16 11:55:21</td>\n",
       "    </tr>\n",
       "    <tr>\n",
       "      <th>3</th>\n",
       "      <td>kim</td>\n",
       "      <td>1212</td>\n",
       "      <td>김유신</td>\n",
       "      <td>kim@gmail.com</td>\n",
       "      <td>2021-08-25 09:55:44</td>\n",
       "    </tr>\n",
       "    <tr>\n",
       "      <th>4</th>\n",
       "      <td>lee</td>\n",
       "      <td>1212</td>\n",
       "      <td>이순신</td>\n",
       "      <td>lee@gmail.com</td>\n",
       "      <td>2021-08-20 09:39:14</td>\n",
       "    </tr>\n",
       "    <tr>\n",
       "      <th>5</th>\n",
       "      <td>hong</td>\n",
       "      <td>1212</td>\n",
       "      <td>홍길동</td>\n",
       "      <td>hong@gmail.com</td>\n",
       "      <td>2021-08-20 09:39:12</td>\n",
       "    </tr>\n",
       "  </tbody>\n",
       "</table>\n",
       "</div>"
      ],
      "text/plain": [
       "      0     1    2               3                   4\n",
       "0  cha2   123  차두리   cha2@test.com 2021-09-16 11:56:26\n",
       "1  park   123  박지성   park@test.com 2021-09-16 11:56:02\n",
       "2  cha1   123  차범근   cha1@test.com 2021-09-16 11:55:21\n",
       "3   kim  1212  김유신   kim@gmail.com 2021-08-25 09:55:44\n",
       "4   lee  1212  이순신   lee@gmail.com 2021-08-20 09:39:14\n",
       "5  hong  1212  홍길동  hong@gmail.com 2021-08-20 09:39:12"
      ]
     },
     "execution_count": 79,
     "metadata": {},
     "output_type": "execute_result"
    }
   ],
   "source": [
    "import pandas as pd\n",
    "\n",
    "cursor = connection.cursor()\n",
    "\n",
    "dd=(cursor.execute(\"\"\"\n",
    "   select * from t_member order by joinDate desc \"\"\"\n",
    "))\n",
    "\n",
    "dd = pd.DataFrame(dd)\n",
    "dd\n",
    "\n"
   ]
  },
  {
   "cell_type": "code",
   "execution_count": null,
   "id": "3212409c",
   "metadata": {},
   "outputs": [],
   "source": [
    "# 저장하기 소스\n",
    "# dd.to_csv('D:/Oracle_DataFrame.csv', index=False, encoding='cp949')"
   ]
  },
  {
   "cell_type": "code",
   "execution_count": 80,
   "id": "fd103e27",
   "metadata": {},
   "outputs": [
    {
     "data": {
      "text/html": [
       "<div>\n",
       "<style scoped>\n",
       "    .dataframe tbody tr th:only-of-type {\n",
       "        vertical-align: middle;\n",
       "    }\n",
       "\n",
       "    .dataframe tbody tr th {\n",
       "        vertical-align: top;\n",
       "    }\n",
       "\n",
       "    .dataframe thead th {\n",
       "        text-align: right;\n",
       "    }\n",
       "</style>\n",
       "<table border=\"1\" class=\"dataframe\">\n",
       "  <thead>\n",
       "    <tr style=\"text-align: right;\">\n",
       "      <th></th>\n",
       "      <th>0</th>\n",
       "      <th>1</th>\n",
       "      <th>2</th>\n",
       "      <th>3</th>\n",
       "      <th>4</th>\n",
       "    </tr>\n",
       "  </thead>\n",
       "  <tbody>\n",
       "    <tr>\n",
       "      <th>0</th>\n",
       "      <td>hong</td>\n",
       "      <td>1212</td>\n",
       "      <td>홍길동</td>\n",
       "      <td>hong@gmail.com</td>\n",
       "      <td>2021-08-20 09:39:12</td>\n",
       "    </tr>\n",
       "  </tbody>\n",
       "</table>\n",
       "</div>"
      ],
      "text/plain": [
       "      0     1    2               3                   4\n",
       "0  hong  1212  홍길동  hong@gmail.com 2021-08-20 09:39:12"
      ]
     },
     "execution_count": 80,
     "metadata": {},
     "output_type": "execute_result"
    }
   ],
   "source": [
    "dd=(cursor.execute(\"\"\"\n",
    "   select * from t_member where id = 'hong' \"\"\"\n",
    "))\n",
    "\n",
    "dd = pd.DataFrame(dd)\n",
    "dd"
   ]
  },
  {
   "cell_type": "code",
   "execution_count": 81,
   "id": "3b41d74e",
   "metadata": {},
   "outputs": [
    {
     "data": {
      "text/html": [
       "<div>\n",
       "<style scoped>\n",
       "    .dataframe tbody tr th:only-of-type {\n",
       "        vertical-align: middle;\n",
       "    }\n",
       "\n",
       "    .dataframe tbody tr th {\n",
       "        vertical-align: top;\n",
       "    }\n",
       "\n",
       "    .dataframe thead th {\n",
       "        text-align: right;\n",
       "    }\n",
       "</style>\n",
       "<table border=\"1\" class=\"dataframe\">\n",
       "  <thead>\n",
       "    <tr style=\"text-align: right;\">\n",
       "      <th></th>\n",
       "      <th>0</th>\n",
       "      <th>1</th>\n",
       "      <th>2</th>\n",
       "      <th>3</th>\n",
       "      <th>4</th>\n",
       "    </tr>\n",
       "  </thead>\n",
       "  <tbody>\n",
       "    <tr>\n",
       "      <th>0</th>\n",
       "      <td>hong</td>\n",
       "      <td>1212</td>\n",
       "      <td>홍길동</td>\n",
       "      <td>hong@gmail.com</td>\n",
       "      <td>2021-08-20 09:39:12</td>\n",
       "    </tr>\n",
       "    <tr>\n",
       "      <th>1</th>\n",
       "      <td>lee</td>\n",
       "      <td>1212</td>\n",
       "      <td>이순신</td>\n",
       "      <td>lee@gmail.com</td>\n",
       "      <td>2021-08-20 09:39:14</td>\n",
       "    </tr>\n",
       "    <tr>\n",
       "      <th>2</th>\n",
       "      <td>kim</td>\n",
       "      <td>1212</td>\n",
       "      <td>김유신</td>\n",
       "      <td>kim@gmail.com</td>\n",
       "      <td>2021-08-25 09:55:44</td>\n",
       "    </tr>\n",
       "  </tbody>\n",
       "</table>\n",
       "</div>"
      ],
      "text/plain": [
       "      0     1    2               3                   4\n",
       "0  hong  1212  홍길동  hong@gmail.com 2021-08-20 09:39:12\n",
       "1   lee  1212  이순신   lee@gmail.com 2021-08-20 09:39:14\n",
       "2   kim  1212  김유신   kim@gmail.com 2021-08-25 09:55:44"
      ]
     },
     "execution_count": 81,
     "metadata": {},
     "output_type": "execute_result"
    }
   ],
   "source": [
    "dd=(cursor.execute(\"\"\"\n",
    "   select * from t_member where pwd = '1212' \"\"\"\n",
    "))\n",
    "\n",
    "dd = pd.DataFrame(dd)\n",
    "dd"
   ]
  },
  {
   "cell_type": "code",
   "execution_count": null,
   "id": "07ff891d",
   "metadata": {},
   "outputs": [],
   "source": []
  },
  {
   "cell_type": "code",
   "execution_count": 5,
   "id": "feea1fc0",
   "metadata": {},
   "outputs": [],
   "source": [
    "# https://gent.tistory.com/322\n",
    "\n",
    "dd=cursor.execute(\"\"\"\n",
    "create table customer (\n",
    "   ID\t\tint\t\tnot null,\n",
    "   name\t\tvarchar(20)\tnot null,\n",
    "   age\t\tint\t\tnot null,\n",
    "   address\tchar(25),\n",
    "   salary\tdecimal(18, 2)\n",
    ")   \n",
    "   \"\"\"\n",
    ")\n",
    "\n",
    "dd = pd.DataFrame(dd)\n",
    "dd\n",
    "\n"
   ]
  },
  {
   "cell_type": "code",
   "execution_count": 82,
   "id": "fef9d5fc",
   "metadata": {},
   "outputs": [],
   "source": [
    "dd=cursor.execute(\"\"\"\n",
    "INSERT INTO customer \n",
    "VALUES (72781231, 'SCOTT', 33, '주소', 20000)\n",
    "   \n",
    "   \"\"\"\n",
    ")\n"
   ]
  },
  {
   "cell_type": "code",
   "execution_count": 83,
   "id": "fcc69387",
   "metadata": {},
   "outputs": [
    {
     "data": {
      "text/html": [
       "<div>\n",
       "<style scoped>\n",
       "    .dataframe tbody tr th:only-of-type {\n",
       "        vertical-align: middle;\n",
       "    }\n",
       "\n",
       "    .dataframe tbody tr th {\n",
       "        vertical-align: top;\n",
       "    }\n",
       "\n",
       "    .dataframe thead th {\n",
       "        text-align: right;\n",
       "    }\n",
       "</style>\n",
       "<table border=\"1\" class=\"dataframe\">\n",
       "  <thead>\n",
       "    <tr style=\"text-align: right;\">\n",
       "      <th></th>\n",
       "      <th>0</th>\n",
       "      <th>1</th>\n",
       "      <th>2</th>\n",
       "      <th>3</th>\n",
       "      <th>4</th>\n",
       "    </tr>\n",
       "  </thead>\n",
       "  <tbody>\n",
       "    <tr>\n",
       "      <th>0</th>\n",
       "      <td>7788</td>\n",
       "      <td>SCOTT</td>\n",
       "      <td>33</td>\n",
       "      <td>주소</td>\n",
       "      <td>20000.0</td>\n",
       "    </tr>\n",
       "    <tr>\n",
       "      <th>1</th>\n",
       "      <td>7781</td>\n",
       "      <td>SCOTT</td>\n",
       "      <td>33</td>\n",
       "      <td>주소</td>\n",
       "      <td>20000.0</td>\n",
       "    </tr>\n",
       "    <tr>\n",
       "      <th>2</th>\n",
       "      <td>72781231</td>\n",
       "      <td>SCOTT</td>\n",
       "      <td>33</td>\n",
       "      <td>주소</td>\n",
       "      <td>20000.0</td>\n",
       "    </tr>\n",
       "    <tr>\n",
       "      <th>3</th>\n",
       "      <td>72781231</td>\n",
       "      <td>SCOTT</td>\n",
       "      <td>33</td>\n",
       "      <td>주소</td>\n",
       "      <td>20000.0</td>\n",
       "    </tr>\n",
       "  </tbody>\n",
       "</table>\n",
       "</div>"
      ],
      "text/plain": [
       "          0      1   2                      3        4\n",
       "0      7788  SCOTT  33  주소                     20000.0\n",
       "1      7781  SCOTT  33  주소                     20000.0\n",
       "2  72781231  SCOTT  33  주소                     20000.0\n",
       "3  72781231  SCOTT  33  주소                     20000.0"
      ]
     },
     "execution_count": 83,
     "metadata": {},
     "output_type": "execute_result"
    }
   ],
   "source": [
    "dd=(cursor.execute(\"\"\"\n",
    "   select * from customer \"\"\"\n",
    "))\n",
    "\n",
    "dd = pd.DataFrame(dd)\n",
    "dd\n"
   ]
  },
  {
   "cell_type": "code",
   "execution_count": 84,
   "id": "0d8395a5",
   "metadata": {},
   "outputs": [],
   "source": [
    "dd=cursor.execute(\"\"\"\n",
    "delete from customer where ID=72781   \n",
    "   \"\"\"\n",
    ")"
   ]
  },
  {
   "cell_type": "code",
   "execution_count": null,
   "id": "ccfea03b",
   "metadata": {},
   "outputs": [],
   "source": []
  },
  {
   "cell_type": "code",
   "execution_count": null,
   "id": "a1907381",
   "metadata": {},
   "outputs": [],
   "source": []
  },
  {
   "cell_type": "code",
   "execution_count": null,
   "id": "91511b12",
   "metadata": {},
   "outputs": [],
   "source": []
  },
  {
   "cell_type": "code",
   "execution_count": null,
   "id": "b77db3f4",
   "metadata": {},
   "outputs": [],
   "source": []
  },
  {
   "cell_type": "code",
   "execution_count": 69,
   "id": "33519523",
   "metadata": {},
   "outputs": [],
   "source": []
  },
  {
   "cell_type": "code",
   "execution_count": null,
   "id": "e6da8a50",
   "metadata": {},
   "outputs": [],
   "source": []
  },
  {
   "cell_type": "code",
   "execution_count": null,
   "id": "bcfc4357",
   "metadata": {},
   "outputs": [],
   "source": []
  }
 ],
 "metadata": {
  "kernelspec": {
   "display_name": "Python 3",
   "language": "python",
   "name": "python3"
  },
  "language_info": {
   "codemirror_mode": {
    "name": "ipython",
    "version": 3
   },
   "file_extension": ".py",
   "mimetype": "text/x-python",
   "name": "python",
   "nbconvert_exporter": "python",
   "pygments_lexer": "ipython3",
   "version": "3.8.8"
  }
 },
 "nbformat": 4,
 "nbformat_minor": 5
}
