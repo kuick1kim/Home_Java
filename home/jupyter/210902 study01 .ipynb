{
 "cells": [
  {
   "cell_type": "code",
   "execution_count": null,
   "id": "c57fcf4c",
   "metadata": {},
   "outputs": [],
   "source": [
    "# N_PRIMES =50\n",
    "# number =2\n",
    "# count =0\n",
    "\n",
    "# while count < N_PRIMES:\n",
    "#     divisor =2\n",
    "#     prime=True\n",
    "    \n",
    "#     while divisor< number:\n",
    "#         if number%divisor == 0:\n",
    "#             prime= False\n",
    "#             break\n",
    "#         divisor +=1\n",
    "#         if prime:\n",
    "#             count += 1\n",
    "#             print(number, end=\"\")\n",
    "            \n",
    "#         number +=1"
   ]
  },
  {
   "cell_type": "code",
   "execution_count": 10,
   "id": "c032e41d",
   "metadata": {},
   "outputs": [
    {
     "name": "stdout",
     "output_type": "stream",
     "text": [
      "반복횟수5\n",
      "Pi = 3.339683\n"
     ]
    }
   ],
   "source": [
    "\n",
    "\n",
    "divisor = 1.0\n",
    "divident = 4.0\n",
    "sum = 0.0\n",
    "loop_count = int(input(\"반복횟수\"))\n",
    "while(loop_count >0):\n",
    "    sum = sum + divident /divisor\n",
    "    divident = -1.0 *divident\n",
    "    divisor = divisor +2\n",
    "    loop_count = loop_count -1;\n",
    "print(\"Pi = %2f\"%sum)"
   ]
  },
  {
   "cell_type": "code",
   "execution_count": 1,
   "id": "f57e5152",
   "metadata": {},
   "outputs": [
    {
     "data": {
      "text/plain": [
       "<function turtle.bye()>"
      ]
     },
     "execution_count": 1,
     "metadata": {},
     "output_type": "execute_result"
    }
   ],
   "source": [
    "import turtle\n",
    "import random\n",
    "t = turtle.Turtle()\n",
    "t.shape(\"turtle\")\n",
    "\n",
    "for i in range(100):\n",
    "    length = random.randint(1, 50)\n",
    "    t.forward(length)\n",
    "    angle = random.randint(-180,180)\n",
    "    t.right(angle)\n",
    "    length = random.randint(1, 50)\n",
    "    t.forward(length)\n",
    "    angle = random.randint(-180,180)\n",
    "    t.left(angle)\n",
    "    \n",
    "turtle.mainloop()\n",
    "turtle.bye"
   ]
  },
  {
   "cell_type": "code",
   "execution_count": 5,
   "id": "be4ec917",
   "metadata": {},
   "outputs": [
    {
     "ename": "Terminator",
     "evalue": "",
     "output_type": "error",
     "traceback": [
      "\u001b[1;31m---------------------------------------------------------------------------\u001b[0m",
      "\u001b[1;31mTerminator\u001b[0m                                Traceback (most recent call last)",
      "\u001b[1;32m<ipython-input-5-6b8015bf24d3>\u001b[0m in \u001b[0;36m<module>\u001b[1;34m\u001b[0m\n\u001b[0;32m      9\u001b[0m \u001b[1;33m\u001b[0m\u001b[0m\n\u001b[0;32m     10\u001b[0m \u001b[0mturtle\u001b[0m\u001b[1;33m.\u001b[0m\u001b[0mmainloop\u001b[0m\u001b[1;33m(\u001b[0m\u001b[1;33m)\u001b[0m\u001b[1;33m\u001b[0m\u001b[1;33m\u001b[0m\u001b[0m\n\u001b[1;32m---> 11\u001b[1;33m \u001b[0mturtle\u001b[0m\u001b[1;33m.\u001b[0m\u001b[0mbye\u001b[0m\u001b[1;33m(\u001b[0m\u001b[1;33m)\u001b[0m\u001b[1;33m\u001b[0m\u001b[1;33m\u001b[0m\u001b[0m\n\u001b[0m",
      "\u001b[1;32m~\\anaconda3\\lib\\turtle.py\u001b[0m in \u001b[0;36mbye\u001b[1;34m()\u001b[0m\n",
      "\u001b[1;31mTerminator\u001b[0m: "
     ]
    }
   ],
   "source": [
    "import turtle\n",
    "\n",
    "t = turtle.Turtle()\n",
    "t.shape(\"turtle\")\n",
    "\n",
    "for i in range(200):\n",
    "    t.forward(2+i/4)\t\t# 반복에 따라 조금씩 증가시킨다. \n",
    "    t.left(30-i/12)\t\t# 반복에 따라 조금씩 감소시킨다. \t\n",
    "\n",
    "turtle.mainloop()\n",
    "turtle.bye()\n"
   ]
  },
  {
   "cell_type": "code",
   "execution_count": 15,
   "id": "b30c0c32",
   "metadata": {},
   "outputs": [
    {
     "name": "stdout",
     "output_type": "stream",
     "text": [
      "숫자를 넣으세요(cm)  25\n",
      "\n",
      "반지름이 25 cm   인 원의 넓이는 = 1962.5  m2 입니다\n"
     ]
    }
   ],
   "source": [
    "def get_area(radius):\n",
    "    area = 3.14 *radius**2\n",
    "    return area\n",
    "\n",
    "x=int(input(\"숫자를 넣으세요(cm)  \"))\n",
    "\n",
    "result = get_area(x)\n",
    "print()\n",
    "print(\"반지름이\" , x, \"cm   인 원의 넓이는 =\" ,result, \" m2 입니다\")"
   ]
  },
  {
   "cell_type": "code",
   "execution_count": null,
   "id": "ebff4251",
   "metadata": {},
   "outputs": [],
   "source": [
    "두개 이상의 리턴값을 가짐.\n",
    "\n"
   ]
  },
  {
   "cell_type": "code",
   "execution_count": 12,
   "id": "318236bd",
   "metadata": {},
   "outputs": [
    {
     "name": "stdout",
     "output_type": "stream",
     "text": [
      "2 3\n"
     ]
    }
   ],
   "source": [
    "# 파이썬은 두개이상의 인풋값을 가질 수 있다. \n",
    "\n",
    "def get_input():\n",
    "    return 2,3\n",
    "x, y = get_input()\n",
    "print(x,y)"
   ]
  },
  {
   "cell_type": "code",
   "execution_count": 25,
   "id": "cc830d40",
   "metadata": {},
   "outputs": [
    {
     "name": "stdout",
     "output_type": "stream",
     "text": [
      "반지름이 25 cm   인 원의 넓이는 = 28.26  m2 입니다\n"
     ]
    }
   ],
   "source": [
    "# 메인이 있으면 어디있어도 상관없음\n",
    "def 실행():\n",
    "    result = 구하기식(3)\n",
    "    print(\"반지름이\" , x, \"cm   인 원의 넓이는 =\" ,result, \" m2 입니다\")\n",
    "\n",
    "def 구하기식(radius):\n",
    "    area = 3.14*radius**2\n",
    "    return area\n",
    "실행()"
   ]
  },
  {
   "cell_type": "code",
   "execution_count": 26,
   "id": "d4571a5a",
   "metadata": {},
   "outputs": [
    {
     "name": "stdout",
     "output_type": "stream",
     "text": [
      "반지름이 25 cm   인 원의 넓이는 = 28.26  m2 입니다\n"
     ]
    }
   ],
   "source": [
    "\n",
    "def 구하기식(radius):\n",
    "    area = 3.14*radius**2\n",
    "    return area\n",
    "\n",
    "result = 구하기식(3)\n",
    "print(\"반지름이\" , x, \"cm   인 원의 넓이는 =\" ,result, \" m2 입니다\")\n"
   ]
  },
  {
   "cell_type": "code",
   "execution_count": null,
   "id": "dfc1742e",
   "metadata": {},
   "outputs": [],
   "source": []
  },
  {
   "cell_type": "markdown",
   "id": "aac4ceb7",
   "metadata": {},
   "source": [
    "# 피자의 면적을 비교하는 프로그램"
   ]
  },
  {
   "cell_type": "code",
   "execution_count": 64,
   "id": "7229ea1b",
   "metadata": {},
   "outputs": [
    {
     "name": "stdout",
     "output_type": "stream",
     "text": [
      "작은피자의 지름을 넣으세요 : 20\n",
      "큰피자의 지름을 넣으세요 : 30\n",
      "\n",
      "지름이 20 cm 인피자 2개의 면적: 628.0\n",
      "\n",
      "지름이 30 cm 인피자 1개의 면적: 706.5\n"
     ]
    }
   ],
   "source": [
    "def main():\n",
    "    x = int(input(\"작은피자의 지름을 넣으세요 : \"))\n",
    "    y = int(input(\"큰피자의 지름을 넣으세요 : \"))\n",
    "    print()\n",
    "    print(\"지름이\",x, \"cm 인피자 2개의 면적:\", 2*get_area(x))\n",
    "    print()\n",
    "    print(\"지름이\",y, \"cm 인피자 1개의 면적:\", get_area(y))\n",
    "\n",
    "def get_area(radius) :\n",
    "    if radius > 0 :\n",
    "        area = 3.14*(radius/2)**2\n",
    "    else:\n",
    "        area = 0\n",
    "    return area\n",
    "\n",
    "main()\n",
    "          \n"
   ]
  },
  {
   "cell_type": "code",
   "execution_count": 13,
   "id": "f404b2e3",
   "metadata": {},
   "outputs": [],
   "source": [
    "def get_area(radius) :\n",
    "    if radius > 0 :\n",
    "        area = 3.14*radius**2\n",
    "    else :\n",
    "        area = 0\n",
    "    return area"
   ]
  },
  {
   "cell_type": "code",
   "execution_count": null,
   "id": "895ca943",
   "metadata": {},
   "outputs": [],
   "source": []
  },
  {
   "cell_type": "markdown",
   "id": "97bccac0",
   "metadata": {},
   "source": [
    "# 디폴트 배워보기 "
   ]
  },
  {
   "cell_type": "code",
   "execution_count": 32,
   "id": "499db7f8",
   "metadata": {},
   "outputs": [
    {
     "name": "stdout",
     "output_type": "stream",
     "text": [
      "안녕 철수, 할렐루야\n"
     ]
    }
   ],
   "source": [
    "# 파이썬에서는 함수의 매개 변수가 기본값을 가질수 있다\n",
    "def greet(name, msg):\n",
    "    print(\"안녕\", name +\",\" ,msg)\n",
    "    \n",
    "greet(\"철수\", \"할렐루야\")"
   ]
  },
  {
   "cell_type": "markdown",
   "id": "0889819d",
   "metadata": {},
   "source": [
    "### 디폴트2 Defolt"
   ]
  },
  {
   "cell_type": "code",
   "execution_count": 45,
   "id": "d13522f6",
   "metadata": {},
   "outputs": [
    {
     "ename": "SyntaxError",
     "evalue": "non-default argument follows default argument (<ipython-input-45-86b75d96bff4>, line 1)",
     "output_type": "error",
     "traceback": [
      "\u001b[1;36m  File \u001b[1;32m\"<ipython-input-45-86b75d96bff4>\"\u001b[1;36m, line \u001b[1;32m1\u001b[0m\n\u001b[1;33m    def greet(name=\"민상\", msg):\u001b[0m\n\u001b[1;37m              ^\u001b[0m\n\u001b[1;31mSyntaxError\u001b[0m\u001b[1;31m:\u001b[0m non-default argument follows default argument\n"
     ]
    }
   ],
   "source": [
    "\n",
    "def greet(name=\"민상\", msg=\"할렐루야\"):\n",
    "    print(\"안녕\", name +\",\" ,msg)\n",
    "\n",
    "greet(\"영희\", \"잘지내니?\")\n",
    "\n",
    "greet(\"영희\")\n",
    "greet()\n",
    "\n",
    "\n",
    "# 영희만 넣었는데 할렐루야가 기본값으로 나옴\n",
    "# main도 디폴트 인수가 된다. "
   ]
  },
  {
   "cell_type": "code",
   "execution_count": 61,
   "id": "a3985b20",
   "metadata": {},
   "outputs": [
    {
     "name": "stdout",
     "output_type": "stream",
     "text": [
      "안녕 영희, 할렐루야\n",
      "안녕 영희, 할렐루야\n",
      "안녕 민상, 할렐루야\n"
     ]
    }
   ],
   "source": [
    "def greet(name=\"민상\", msg=\"할렐루야\"):\n",
    "    \n",
    "    print(\"안녕\", name +\",\" ,msg)\n",
    "\n",
    "greet(\"영희\")\n",
    "\n",
    "greet(\"영희\")\n",
    "greet()\n",
    "\n",
    "\n",
    "# 영희만 넣었는데 할렐루야가 기본값으로 나옴\n",
    "# main도 디폴트 인수가 된다. "
   ]
  },
  {
   "cell_type": "code",
   "execution_count": null,
   "id": "a0ed91c9",
   "metadata": {},
   "outputs": [],
   "source": []
  },
  {
   "cell_type": "code",
   "execution_count": 67,
   "id": "753b92d1",
   "metadata": {},
   "outputs": [
    {
     "name": "stdout",
     "output_type": "stream",
     "text": [
      "하나의 값으로 호출\n",
      "(10,)\n",
      "여러 개의 값으로 호출\n",
      "(10, 20, 30)\n"
     ]
    }
   ],
   "source": [
    "# 가변인수 -숫자 들어오는 만큼 변하게 해보겠다. \n",
    "def varfunc(*args ):   \n",
    "    print (args)\n",
    "\n",
    "print(\"하나의 값으로 호출\")\n",
    "varfunc(10)\n",
    "print(\"여러 개의 값으로 호출\")\n",
    "varfunc(10, 20, 30)"
   ]
  },
  {
   "cell_type": "code",
   "execution_count": 69,
   "id": "e1b3869c",
   "metadata": {},
   "outputs": [
    {
     "name": "stdout",
     "output_type": "stream",
     "text": [
      "30\n",
      "360\n"
     ]
    }
   ],
   "source": [
    "def add(*numbers):\n",
    "    sum=0\n",
    "    for n in numbers:\n",
    "        sum = sum + n\n",
    "    return sum\n",
    "\n",
    "print(add(10,20))\n",
    "print(add(10,20,330))"
   ]
  },
  {
   "cell_type": "code",
   "execution_count": 82,
   "id": "c70921ba",
   "metadata": {},
   "outputs": [
    {
     "name": "stdout",
     "output_type": "stream",
     "text": [
      "Hi!Mr.Kim\n"
     ]
    }
   ],
   "source": [
    "#  가변인수 3 변수를 마음껏 바꾸는것을 말한다. \n",
    "def add(**kwargs):    #키워드를 사용할때는 **별이 두개가 들어감\n",
    "    result = \"\"\n",
    "    for n in kwargs.values():\n",
    "        result += n\n",
    "        \n",
    "    return result\n",
    "\n",
    "\n",
    "print(add(a=\"Hi!\", b=\"Mr.\", c=\"Kim\"))\n",
    "      \n"
   ]
  },
  {
   "cell_type": "code",
   "execution_count": 92,
   "id": "36c931c5",
   "metadata": {},
   "outputs": [
    {
     "name": "stdout",
     "output_type": "stream",
     "text": [
      "x**2-x-1의 근: 1.62\n"
     ]
    }
   ],
   "source": [
    "# 이분법으로 근을 계산하는 프로그램\n",
    "\n",
    "def f(x):\n",
    "    return(x**2-x-1)\n",
    "\n",
    "\n",
    "def bisection_method(a, b, error):\n",
    "    if f(a)*f(b) > 0:\n",
    "        print(\"구간에서 근을 찾을 수 없습니다.\")\n",
    "    else:\n",
    "        while (b - a)/2.0 > error:\t# 오차를 계산한다. \n",
    "            midpoint = (a + b)/2.0\t# 중점을 계산한다. \n",
    "            if f(midpoint) == 0:\n",
    "                return(midpoint) \n",
    "            elif f(a)*f(midpoint) < 0: \n",
    "                b = midpoint\n",
    "            else:\n",
    "                a = midpoint\n",
    "        \n",
    "        return(midpoint)\n",
    "\n",
    "answer = bisection_method(1, 2, 0.0001)\n",
    "\n",
    "print(\"x**2-x-1의 근:\", \"%.2f\"%answer)"
   ]
  },
  {
   "cell_type": "markdown",
   "id": "244553da",
   "metadata": {},
   "source": [
    "# 주급을 계산하는 프로그램"
   ]
  },
  {
   "cell_type": "code",
   "execution_count": 115,
   "id": "1095f049",
   "metadata": {},
   "outputs": [
    {
     "name": "stdout",
     "output_type": "stream",
     "text": [
      "시급은:10000\n",
      "근무시간은:40\n",
      "주급은 :  150000.0\n"
     ]
    }
   ],
   "source": [
    "# 주급을 계산하는 프로그램\n",
    "# 30시간이 넘은 사람은 시급의 1.5배\n",
    "\n",
    "def 주급(시급, 시간):\n",
    "    meney = 0\n",
    "    if 시간 >30 :\n",
    "        money = 시급*시간 + (1.5*시급*(시간-30))\n",
    "    else:\n",
    "        money = 시급*시간\n",
    "    return money\n",
    "\n",
    "시급 = int(input(\"시급은:\"))\n",
    "시간 = int(input(\"근무시간은:\"))\n",
    "print(\"주급은 : \",str(주급(시급, 시간)))"
   ]
  },
  {
   "cell_type": "code",
   "execution_count": null,
   "id": "3a689fc2",
   "metadata": {},
   "outputs": [],
   "source": []
  },
  {
   "cell_type": "code",
   "execution_count": 116,
   "id": "a26bd41e",
   "metadata": {},
   "outputs": [
    {
     "name": "stdout",
     "output_type": "stream",
     "text": [
      "생일축하 합니다! \n",
      "생일축하 합니다! \n",
      "사랑하는  홍길동 의\n",
      "생일축하 합니다! \n",
      "\n"
     ]
    }
   ],
   "source": [
    "def print_birthday(name) :\n",
    "\tprint(\"생일축하 합니다! \");\n",
    "\tprint(\"생일축하 합니다! \");\n",
    "\tprint(\"사랑하는 \", name, \"의\");\n",
    "\tprint(\"생일축하 합니다! \\n\");\n",
    "\n",
    "print_birthday(\"홍길동\")"
   ]
  },
  {
   "cell_type": "code",
   "execution_count": 117,
   "id": "f9519dc6",
   "metadata": {
    "scrolled": true
   },
   "outputs": [
    {
     "name": "stdout",
     "output_type": "stream",
     "text": [
      "이름:김민상\n",
      "나이:41\n",
      "이름은  김민상 이고 나이는  41 살입니다.\n"
     ]
    }
   ],
   "source": [
    "# 두개 값을 반환하는 것을 의미한다\n",
    "\n",
    "def get_info():\n",
    "    name = input(\"이름:\")\n",
    "    age = int(input(\"나이:\"))\n",
    "    return name, age        # 2개의 값을 반환한다. \n",
    "    \n",
    "st_name, st_age = get_info()         # 반환된 값을 풀어서 변수에 저장한다.\n",
    "print(\"이름은 \", st_name, \"이고 나이는 \", st_age, \"살입니다.\")\n"
   ]
  },
  {
   "cell_type": "code",
   "execution_count": null,
   "id": "bf1b685c",
   "metadata": {},
   "outputs": [],
   "source": []
  },
  {
   "cell_type": "code",
   "execution_count": 122,
   "id": "038f79c9",
   "metadata": {},
   "outputs": [
    {
     "ename": "Terminator",
     "evalue": "",
     "output_type": "error",
     "traceback": [
      "\u001b[1;31m---------------------------------------------------------------------------\u001b[0m",
      "\u001b[1;31mTerminator\u001b[0m                                Traceback (most recent call last)",
      "\u001b[1;32m<ipython-input-122-5ed956619f75>\u001b[0m in \u001b[0;36m<module>\u001b[1;34m\u001b[0m\n\u001b[0;32m     23\u001b[0m \u001b[1;33m\u001b[0m\u001b[0m\n\u001b[0;32m     24\u001b[0m \u001b[0mturtle\u001b[0m\u001b[1;33m.\u001b[0m\u001b[0mmainloop\u001b[0m\u001b[1;33m(\u001b[0m\u001b[1;33m)\u001b[0m\u001b[1;33m\u001b[0m\u001b[1;33m\u001b[0m\u001b[0m\n\u001b[1;32m---> 25\u001b[1;33m \u001b[0mturtle\u001b[0m\u001b[1;33m.\u001b[0m\u001b[0mbye\u001b[0m\u001b[1;33m(\u001b[0m\u001b[1;33m)\u001b[0m\u001b[1;33m\u001b[0m\u001b[1;33m\u001b[0m\u001b[0m\n\u001b[0m\u001b[0;32m     26\u001b[0m \u001b[0mturtle\u001b[0m\u001b[1;33m.\u001b[0m\u001b[0mclose\u001b[0m\u001b[1;33m(\u001b[0m\u001b[1;33m)\u001b[0m\u001b[1;33m\u001b[0m\u001b[1;33m\u001b[0m\u001b[0m\n",
      "\u001b[1;32m~\\anaconda3\\lib\\turtle.py\u001b[0m in \u001b[0;36mbye\u001b[1;34m()\u001b[0m\n",
      "\u001b[1;31mTerminator\u001b[0m: "
     ]
    }
   ],
   "source": [
    "##\n",
    "#\t이 프로그램은 사각형을 그리는 함수를 작성하고 사용한다. \n",
    "#\n",
    "\n",
    "import turtle \n",
    "t = turtle.Turtle()\n",
    "t.shape(\"turtle\")\n",
    "\n",
    "def square(length):\t\t# length는 한변의 길이\n",
    "    t.down()\n",
    "    for i in range(4):\n",
    "        t.forward(length)\n",
    "        t.left(90)\n",
    "    t.up()\n",
    "\n",
    "square(100);\t\t\t# square() 함수를 호출한다. \n",
    "t.left(90)\n",
    "t.forward(120)\n",
    "square(120);\n",
    "t.left(90)\n",
    "t.forward(120)\n",
    "square(150);\n",
    "\n",
    "turtle.mainloop()\n",
    "turtle.bye()\n",
    "\n"
   ]
  },
  {
   "cell_type": "code",
   "execution_count": null,
   "id": "de2a3c89",
   "metadata": {},
   "outputs": [],
   "source": []
  },
  {
   "cell_type": "code",
   "execution_count": 130,
   "id": "85c4cc98",
   "metadata": {},
   "outputs": [
    {
     "name": "stdout",
     "output_type": "stream",
     "text": [
      "1. 섭씨 --> 화씨로 변환\n",
      "2. 화씨 --> 섭씨로 변환\n",
      "3. 종료\n",
      "메뉴선택하세요2\n",
      "화씨온도 입력100\n",
      "섭씨온도= 37.8 \n",
      "\n",
      "1. 섭씨 --> 화씨로 변환\n",
      "2. 화씨 --> 섭씨로 변환\n",
      "3. 종료\n",
      "메뉴선택하세요1\n",
      "섭씨온도 입력300\n",
      "화씨온도= 572.0 \n",
      "\n",
      "1. 섭씨 --> 화씨로 변환\n",
      "2. 화씨 --> 섭씨로 변환\n",
      "3. 종료\n",
      "메뉴선택하세요1\n",
      "섭씨온도 입력78.5\n",
      "화씨온도= 173.3 \n",
      "\n",
      "1. 섭씨 --> 화씨로 변환\n",
      "2. 화씨 --> 섭씨로 변환\n",
      "3. 종료\n",
      "메뉴선택하세요2\n",
      "화씨온도 입력100\n",
      "섭씨온도= 37.8 \n",
      "\n",
      "1. 섭씨 --> 화씨로 변환\n",
      "2. 화씨 --> 섭씨로 변환\n",
      "3. 종료\n"
     ]
    },
    {
     "ename": "KeyboardInterrupt",
     "evalue": "Interrupted by user",
     "output_type": "error",
     "traceback": [
      "\u001b[1;31m---------------------------------------------------------------------------\u001b[0m",
      "\u001b[1;31mKeyboardInterrupt\u001b[0m                         Traceback (most recent call last)",
      "\u001b[1;32m<ipython-input-130-40abb691414c>\u001b[0m in \u001b[0;36m<module>\u001b[1;34m\u001b[0m\n\u001b[0;32m     39\u001b[0m             \u001b[1;32mbreak\u001b[0m\u001b[1;33m\u001b[0m\u001b[1;33m\u001b[0m\u001b[0m\n\u001b[0;32m     40\u001b[0m \u001b[1;33m\u001b[0m\u001b[0m\n\u001b[1;32m---> 41\u001b[1;33m \u001b[0mmain\u001b[0m\u001b[1;33m(\u001b[0m\u001b[1;33m)\u001b[0m\u001b[1;33m\u001b[0m\u001b[1;33m\u001b[0m\u001b[0m\n\u001b[0m",
      "\u001b[1;32m<ipython-input-130-40abb691414c>\u001b[0m in \u001b[0;36mmain\u001b[1;34m()\u001b[0m\n\u001b[0;32m     25\u001b[0m \u001b[1;32mdef\u001b[0m \u001b[0mmain\u001b[0m\u001b[1;33m(\u001b[0m\u001b[1;33m)\u001b[0m\u001b[1;33m:\u001b[0m\u001b[1;33m\u001b[0m\u001b[1;33m\u001b[0m\u001b[0m\n\u001b[0;32m     26\u001b[0m     \u001b[1;32mwhile\u001b[0m \u001b[1;32mTrue\u001b[0m\u001b[1;33m:\u001b[0m\u001b[1;33m\u001b[0m\u001b[1;33m\u001b[0m\u001b[0m\n\u001b[1;32m---> 27\u001b[1;33m         \u001b[0mindex\u001b[0m \u001b[1;33m=\u001b[0m \u001b[0mmenu\u001b[0m\u001b[1;33m(\u001b[0m\u001b[1;33m)\u001b[0m\u001b[1;33m\u001b[0m\u001b[1;33m\u001b[0m\u001b[0m\n\u001b[0m\u001b[0;32m     28\u001b[0m \u001b[1;33m\u001b[0m\u001b[0m\n\u001b[0;32m     29\u001b[0m         \u001b[1;32mif\u001b[0m \u001b[0mindex\u001b[0m \u001b[1;33m==\u001b[0m \u001b[1;36m1\u001b[0m\u001b[1;33m:\u001b[0m\u001b[1;33m\u001b[0m\u001b[1;33m\u001b[0m\u001b[0m\n",
      "\u001b[1;32m<ipython-input-130-40abb691414c>\u001b[0m in \u001b[0;36mmenu\u001b[1;34m()\u001b[0m\n\u001b[0;32m      3\u001b[0m     \u001b[0mprint\u001b[0m\u001b[1;33m(\u001b[0m\u001b[1;34m\"2. 화씨 --> 섭씨로 변환\"\u001b[0m\u001b[1;33m)\u001b[0m\u001b[1;33m\u001b[0m\u001b[1;33m\u001b[0m\u001b[0m\n\u001b[0;32m      4\u001b[0m     \u001b[0mprint\u001b[0m\u001b[1;33m(\u001b[0m\u001b[1;34m\"3. 종료\"\u001b[0m\u001b[1;33m)\u001b[0m\u001b[1;33m\u001b[0m\u001b[1;33m\u001b[0m\u001b[0m\n\u001b[1;32m----> 5\u001b[1;33m     \u001b[0mselection\u001b[0m \u001b[1;33m=\u001b[0m \u001b[0mint\u001b[0m\u001b[1;33m(\u001b[0m\u001b[0minput\u001b[0m\u001b[1;33m(\u001b[0m\u001b[1;34m\"메뉴선택하세요\"\u001b[0m\u001b[1;33m)\u001b[0m\u001b[1;33m)\u001b[0m\u001b[1;33m\u001b[0m\u001b[1;33m\u001b[0m\u001b[0m\n\u001b[0m\u001b[0;32m      6\u001b[0m     \u001b[1;32mreturn\u001b[0m \u001b[0mselection\u001b[0m\u001b[1;33m\u001b[0m\u001b[1;33m\u001b[0m\u001b[0m\n\u001b[0;32m      7\u001b[0m \u001b[1;33m\u001b[0m\u001b[0m\n",
      "\u001b[1;32m~\\anaconda3\\lib\\site-packages\\ipykernel\\kernelbase.py\u001b[0m in \u001b[0;36mraw_input\u001b[1;34m(self, prompt)\u001b[0m\n\u001b[0;32m    858\u001b[0m                 \u001b[1;34m\"raw_input was called, but this frontend does not support input requests.\"\u001b[0m\u001b[1;33m\u001b[0m\u001b[1;33m\u001b[0m\u001b[0m\n\u001b[0;32m    859\u001b[0m             )\n\u001b[1;32m--> 860\u001b[1;33m         return self._input_request(str(prompt),\n\u001b[0m\u001b[0;32m    861\u001b[0m             \u001b[0mself\u001b[0m\u001b[1;33m.\u001b[0m\u001b[0m_parent_ident\u001b[0m\u001b[1;33m,\u001b[0m\u001b[1;33m\u001b[0m\u001b[1;33m\u001b[0m\u001b[0m\n\u001b[0;32m    862\u001b[0m             \u001b[0mself\u001b[0m\u001b[1;33m.\u001b[0m\u001b[0m_parent_header\u001b[0m\u001b[1;33m,\u001b[0m\u001b[1;33m\u001b[0m\u001b[1;33m\u001b[0m\u001b[0m\n",
      "\u001b[1;32m~\\anaconda3\\lib\\site-packages\\ipykernel\\kernelbase.py\u001b[0m in \u001b[0;36m_input_request\u001b[1;34m(self, prompt, ident, parent, password)\u001b[0m\n\u001b[0;32m    902\u001b[0m             \u001b[1;32mexcept\u001b[0m \u001b[0mKeyboardInterrupt\u001b[0m\u001b[1;33m:\u001b[0m\u001b[1;33m\u001b[0m\u001b[1;33m\u001b[0m\u001b[0m\n\u001b[0;32m    903\u001b[0m                 \u001b[1;31m# re-raise KeyboardInterrupt, to truncate traceback\u001b[0m\u001b[1;33m\u001b[0m\u001b[1;33m\u001b[0m\u001b[1;33m\u001b[0m\u001b[0m\n\u001b[1;32m--> 904\u001b[1;33m                 \u001b[1;32mraise\u001b[0m \u001b[0mKeyboardInterrupt\u001b[0m\u001b[1;33m(\u001b[0m\u001b[1;34m\"Interrupted by user\"\u001b[0m\u001b[1;33m)\u001b[0m \u001b[1;32mfrom\u001b[0m \u001b[1;32mNone\u001b[0m\u001b[1;33m\u001b[0m\u001b[1;33m\u001b[0m\u001b[0m\n\u001b[0m\u001b[0;32m    905\u001b[0m             \u001b[1;32mexcept\u001b[0m \u001b[0mException\u001b[0m \u001b[1;32mas\u001b[0m \u001b[0me\u001b[0m\u001b[1;33m:\u001b[0m\u001b[1;33m\u001b[0m\u001b[1;33m\u001b[0m\u001b[0m\n\u001b[0;32m    906\u001b[0m                 \u001b[0mself\u001b[0m\u001b[1;33m.\u001b[0m\u001b[0mlog\u001b[0m\u001b[1;33m.\u001b[0m\u001b[0mwarning\u001b[0m\u001b[1;33m(\u001b[0m\u001b[1;34m\"Invalid Message:\"\u001b[0m\u001b[1;33m,\u001b[0m \u001b[0mexc_info\u001b[0m\u001b[1;33m=\u001b[0m\u001b[1;32mTrue\u001b[0m\u001b[1;33m)\u001b[0m\u001b[1;33m\u001b[0m\u001b[1;33m\u001b[0m\u001b[0m\n",
      "\u001b[1;31mKeyboardInterrupt\u001b[0m: Interrupted by user"
     ]
    }
   ],
   "source": [
    "def menu():\n",
    "    print(\"1. 섭씨 --> 화씨로 변환\")\n",
    "    print(\"2. 화씨 --> 섭씨로 변환\")\n",
    "    print(\"3. 종료\")\n",
    "    selection = int(input(\"메뉴선택하세요\"))\n",
    "    return selection\n",
    "\n",
    "def ctof(c):\n",
    "    temp = c* 9.0/5.0 +32\n",
    "    return temp\n",
    "    \n",
    "    \n",
    "def ftoc(f):\n",
    "    temp = (f-32)* 5.0/9.0\n",
    "    return temp\n",
    "    \n",
    "def input_f():\n",
    "    f = float(input(\"화씨온도 입력\"))\n",
    "    return f\n",
    "\n",
    "def input_c():\n",
    "    c = float(input(\"섭씨온도 입력\"))\n",
    "    return c\n",
    "\n",
    "def main():\n",
    "    while True:\n",
    "        index = menu()\n",
    "        \n",
    "        if index == 1:\n",
    "            t= input_c()\n",
    "            t2= ctof(t)\n",
    "            print(\"화씨온도=\" , t2, \"\\n\")\n",
    "            \n",
    "        elif index == 2:\n",
    "            t= input_f()\n",
    "            t2= ftoc(t)\n",
    "            print(\"섭씨온도=\" , \"%.1f\"%t2, \"\\n\")\n",
    "        else:\n",
    "            break\n",
    "\n",
    "main()"
   ]
  },
  {
   "cell_type": "code",
   "execution_count": 131,
   "id": "e153e97b",
   "metadata": {},
   "outputs": [
    {
     "name": "stdout",
     "output_type": "stream",
     "text": [
      "정수를 입력하시오:5\n",
      "5 !=  120\n"
     ]
    }
   ],
   "source": [
    "# 순환호출\n",
    "def  factorial(n):\n",
    "    if n == 1 :\n",
    "        return(1)\n",
    "    else:\n",
    "        return n * factorial(n-1)\n",
    "\n",
    "n = eval(input(\"정수를 입력하시오:\"))\n",
    "print(n, \"!= \", factorial(n))"
   ]
  },
  {
   "cell_type": "markdown",
   "id": "98c6af78",
   "metadata": {},
   "source": [
    "# 프랙탈 해보기"
   ]
  },
  {
   "cell_type": "code",
   "execution_count": null,
   "id": "c252751a",
   "metadata": {},
   "outputs": [],
   "source": [
    "import turtle\n",
    "\n",
    "def drawTree(branch, t):\n",
    "    if branch >5 :\n",
    "        t.forward(branch)\n",
    "        t.right(15)\n",
    "        drawTree(branch-10,t)\n",
    "        t.left(30)\n",
    "        drawTree(branch-10, t)\n",
    "        t.right(15)\n",
    "        t.backward(branch)\n",
    "        \n",
    "        \n",
    "def main():\n",
    "    t= turtle.Turtle()\n",
    "    window = turtle.Screen()\n",
    "    t.left(90)\n",
    "    t.up()\n",
    "    t.backward(200)\n",
    "    t.down()\n",
    "    t.color(\"green\")\n",
    "    drawTree(100,t)\n",
    "    window.exitonclick()\n",
    "    \n",
    "main()\n",
    "    "
   ]
  },
  {
   "cell_type": "code",
   "execution_count": null,
   "id": "87ce22d4",
   "metadata": {},
   "outputs": [],
   "source": []
  }
 ],
 "metadata": {
  "kernelspec": {
   "display_name": "Python 3",
   "language": "python",
   "name": "python3"
  },
  "language_info": {
   "codemirror_mode": {
    "name": "ipython",
    "version": 3
   },
   "file_extension": ".py",
   "mimetype": "text/x-python",
   "name": "python",
   "nbconvert_exporter": "python",
   "pygments_lexer": "ipython3",
   "version": "3.8.8"
  }
 },
 "nbformat": 4,
 "nbformat_minor": 5
}
