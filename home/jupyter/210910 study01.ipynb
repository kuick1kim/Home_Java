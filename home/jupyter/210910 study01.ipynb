{
 "cells": [
  {
   "cell_type": "code",
   "execution_count": null,
   "id": "bc2de21f",
   "metadata": {},
   "outputs": [],
   "source": []
  },
  {
   "cell_type": "code",
   "execution_count": 4,
   "id": "8f72671d",
   "metadata": {},
   "outputs": [
    {
     "name": "stdout",
     "output_type": "stream",
     "text": [
      "['KR', 'Korea', ' 98480', ' Seoul', ' 4822644']\n",
      "['US', 'USA', ' 9629091', ' Washington', ' 310232863']\n",
      "['JP', ' Japan', ' 377835', ' Tokyo', ' 127288000']\n",
      "['CN', ' China', ' 9596960', ' Beijing', ' 1330044000']\n"
     ]
    },
    {
     "data": {
      "text/plain": [
       "<function TextIOWrapper.close()>"
      ]
     },
     "execution_count": 4,
     "metadata": {},
     "output_type": "execute_result"
    }
   ],
   "source": [
    "# csv파일 처리\n",
    "import csv\n",
    "\n",
    "f= open('D:/weather.csv')\n",
    "data = csv.reader(f)\n",
    "header = next(data)\n",
    "\n",
    "\n",
    "for row in data:\n",
    "    print(row)\n",
    "        \n",
    "f.close"
   ]
  },
  {
   "cell_type": "code",
   "execution_count": null,
   "id": "8319a839",
   "metadata": {},
   "outputs": [],
   "source": []
  },
  {
   "cell_type": "code",
   "execution_count": null,
   "id": "301ed8f3",
   "metadata": {},
   "outputs": [],
   "source": [
    "code.country, area, capital,population\n",
    "KR,Korea, 98480, Seoul, 4822644\n",
    "US,USA, 9629091, Washington, 310232863"
   ]
  },
  {
   "cell_type": "code",
   "execution_count": 7,
   "id": "80c523ef",
   "metadata": {},
   "outputs": [
    {
     "name": "stdout",
     "output_type": "stream",
     "text": [
      "평문:  I love you\n",
      "암호문:  l oryh brx\n",
      "복호문:  i love you\n"
     ]
    }
   ],
   "source": [
    "##\n",
    "#\t이 프로그램은 시저 암호를 구현한다. \n",
    "#\n",
    "key = 'abcdefghijklmnopqrstuvwxyz'\n",
    "\n",
    "# 평문을 받아서 암호화하고 암호문을 반환한다. \n",
    "def encrypt(n, plaintext):\n",
    "    result = ''\n",
    "    for l in plaintext.lower():\n",
    "        try:\n",
    "            i = (key.index(l) + n) % 26\n",
    "            result += key[i]\n",
    "        except ValueError:\n",
    "            result += l\n",
    "\n",
    "    return result.lower()\n",
    "\n",
    "# 암호문을 받아서 복호화하고 평문을 반환한다. \n",
    "def decrypt(n, ciphertext):\n",
    "    result = ''\n",
    "    for l in ciphertext:\n",
    "        try:\n",
    "            i = (key.index(l) - n) % 26\n",
    "            result += key[i]\n",
    "        except ValueError:\n",
    "            result += l\n",
    "\n",
    "    return result\n",
    "\n",
    "n = 3\n",
    "text = 'I love you'\n",
    "encrypted = encrypt(n, text)\n",
    "decrypted = decrypt(n, encrypted)\n",
    "print ('평문: ' ,  text)\n",
    "print ('암호문: ',  encrypted)\n",
    "print ('복호문: ' , decrypted)\n"
   ]
  },
  {
   "cell_type": "code",
   "execution_count": null,
   "id": "d29db3ca",
   "metadata": {},
   "outputs": [],
   "source": []
  },
  {
   "cell_type": "code",
   "execution_count": 14,
   "id": "0ae3a5f1",
   "metadata": {},
   "outputs": [],
   "source": [
    "infile = open(\"D:/1234.png\", \"rb\")\n",
    "outfile = open(\"D:/kkk.png\", \"wb\")\n",
    "\n",
    "# 입력 파일에서 1024 바이트씩 읽어서 출력 파일에 쓴다. \n",
    "while True:\n",
    "    copy_buffer = infile.read(1024)\n",
    "    if not copy_buffer:\n",
    "        break\n",
    "    outfile.write(copy_buffer)\n",
    "\n",
    "infile.close()\n",
    "outfile.close()\n",
    "# print(filename1 + '를' + filename2+\"로 복사하였습니다. \")"
   ]
  },
  {
   "cell_type": "code",
   "execution_count": null,
   "id": "0a970cfd",
   "metadata": {},
   "outputs": [],
   "source": []
  },
  {
   "cell_type": "code",
   "execution_count": 20,
   "id": "f9cae73e",
   "metadata": {},
   "outputs": [
    {
     "name": "stdout",
     "output_type": "stream",
     "text": [
      "패스워드를 입력해보세요123@asdASDF\n",
      "유효한 패스워드\n"
     ]
    }
   ],
   "source": [
    "# 패스워드를 검사해보는것\n",
    "\n",
    "import re\n",
    "\n",
    "password = input(\"패스워드를 입력해보세요\")\n",
    "\n",
    "flag = 0\n",
    "\n",
    "while True:\n",
    "    if(len(password)<8):\n",
    "        flag = -1\n",
    "        break\n",
    "    elif not re.search(\"[a-z]\", password):\n",
    "        flag = -1\n",
    "        break\n",
    "    elif not re.search(\"[A-Z]\", password):\n",
    "        flag = -1\n",
    "        break\n",
    "    elif not re.search(\"[0-9]\", password):\n",
    "        flag = -1\n",
    "        break\n",
    "    elif not re.search(\"[a-z]\", password):\n",
    "        flag = -1\n",
    "        break\n",
    "    elif not re.search(\"[_@S$]\", password):\n",
    "        flag = -1\n",
    "        break\n",
    "    else:\n",
    "        flag = 0\n",
    "        print(\"유효한 패스워드\")\n",
    "        break\n",
    "        \n",
    "if flag ==-1:\n",
    "    print(\"유효하지 않습니다. \")\n",
    "        \n",
    "\n",
    "\n",
    "\n",
    "\n"
   ]
  },
  {
   "cell_type": "code",
   "execution_count": 22,
   "id": "0e657d65",
   "metadata": {},
   "outputs": [
    {
     "name": "stdout",
     "output_type": "stream",
     "text": [
      "division by zero\n"
     ]
    }
   ],
   "source": [
    "# 간단한 예외처리 \n",
    "\n",
    "(x,y)=(2,0)\n",
    "try:\n",
    "    z = x/y\n",
    "except ZeroDivisionError as e:\n",
    "    print(e)"
   ]
  },
  {
   "cell_type": "code",
   "execution_count": 38,
   "id": "f9c179a5",
   "metadata": {},
   "outputs": [
    {
     "name": "stdout",
     "output_type": "stream",
     "text": [
      "숫자를 입력하시요123.123\n",
      "정수가 아니여\n",
      "숫자를 입력하시요ㅁㅇㄴㄻㄴ\n",
      "정수가 아니여\n",
      "숫자를 입력하시요123\n",
      "정수맞어\n"
     ]
    }
   ],
   "source": [
    "#입력값 예외처리\n",
    "\n",
    "while True:\n",
    "    try:\n",
    "        n = input(\"숫자를 입력하시요\")\n",
    "        n= int(n)\n",
    "        break\n",
    "    except ValueError:\n",
    "        print(\"정수가 아니여\")\n",
    "        \n",
    "print(\"정수맞어\")"
   ]
  },
  {
   "cell_type": "code",
   "execution_count": 28,
   "id": "5f8fa7d2",
   "metadata": {},
   "outputs": [
    {
     "name": "stdout",
     "output_type": "stream",
     "text": [
      "파일을 성공적으로 기록하였슈\n"
     ]
    }
   ],
   "source": [
    "try:\n",
    "    fh = open(\"D:/testfile.txt\", \"w\")\n",
    "    fh.write(\"테스트 데이터를 파일에 씁니다. \")\n",
    "except IOError:\n",
    "    print(\"파일을 찾을 수 없슈\")\n",
    "else:\n",
    "    print(\"파일을 성공적으로 기록하였슈\")\n",
    "    fh.close()"
   ]
  },
  {
   "cell_type": "code",
   "execution_count": 29,
   "id": "2172484d",
   "metadata": {},
   "outputs": [
    {
     "name": "stdout",
     "output_type": "stream",
     "text": [
      "[4, 5, 6]\n"
     ]
    }
   ],
   "source": [
    "# 필터 만들어서 사용해 보기\n",
    "\n",
    "x = (1,2,3,4,5,6)\n",
    "\n",
    "def myfilter(x):\n",
    "    return x >3\n",
    "\n",
    "result = filter(myfilter, (1,2,3,4,5,6))\n",
    "print(list(result))"
   ]
  },
  {
   "cell_type": "code",
   "execution_count": 36,
   "id": "c18d72ed",
   "metadata": {},
   "outputs": [
    {
     "name": "stdout",
     "output_type": "stream",
     "text": [
      "kim 101 100\n",
      "lee 91 90\n",
      "park 81 80\n"
     ]
    }
   ],
   "source": [
    "names=['kim','lee', 'park']\n",
    "scores1 =[101,91,81]\n",
    "scores2 =[100,90,80]\n",
    "for n, s1 ,s2 in zip(names, scores1, scores2):\n",
    "    print(n, s1, s2)"
   ]
  },
  {
   "cell_type": "code",
   "execution_count": null,
   "id": "3fc69555",
   "metadata": {},
   "outputs": [],
   "source": []
  },
  {
   "cell_type": "code",
   "execution_count": null,
   "id": "beed9976",
   "metadata": {},
   "outputs": [],
   "source": []
  },
  {
   "cell_type": "code",
   "execution_count": 35,
   "id": "981e8571",
   "metadata": {},
   "outputs": [
    {
     "name": "stdout",
     "output_type": "stream",
     "text": [
      "정수의합 30\n",
      "정수의합 450\n"
     ]
    }
   ],
   "source": [
    "\n",
    "f= lambda x,y : x+y;\n",
    "    \n",
    "print('정수의합' , f(10,20))\n",
    "print('정수의합' , f(30,420))"
   ]
  },
  {
   "cell_type": "code",
   "execution_count": 37,
   "id": "049f343a",
   "metadata": {},
   "outputs": [
    {
     "name": "stdout",
     "output_type": "stream",
     "text": [
      "정수의합 30\n",
      "정수의합 450\n"
     ]
    }
   ],
   "source": [
    "\n",
    "def la(x=0,y=0):\n",
    "    return x+y\n",
    "\n",
    "print('정수의합' , la(10,20))\n",
    "print('정수의합' , la(30,420))\n",
    "    "
   ]
  },
  {
   "cell_type": "code",
   "execution_count": 41,
   "id": "f549983a",
   "metadata": {},
   "outputs": [
    {
     "name": "stdout",
     "output_type": "stream",
     "text": [
      "2 버튼이 클릭\n",
      "1 버튼이 클릭\n",
      "2 버튼이 클릭\n",
      "1 버튼이 클릭\n",
      "1 버튼이 클릭\n",
      "1 버튼이 클릭\n",
      "1 버튼이 클릭\n",
      "1 버튼이 클릭\n",
      "1 버튼이 클릭\n",
      "2 버튼이 클릭\n",
      "2 버튼이 클릭\n",
      "2 버튼이 클릭\n",
      "2 버튼이 클릭\n",
      "2 버튼이 클릭\n",
      "2 버튼이 클릭\n",
      "2 버튼이 클릭\n",
      "2 버튼이 클릭\n",
      "2 버튼이 클릭\n",
      "1 버튼이 클릭\n",
      "1 버튼이 클릭\n",
      "1 버튼이 클릭\n",
      "1 버튼이 클릭\n"
     ]
    }
   ],
   "source": [
    "\n",
    "\n",
    "from tkinter import *\n",
    " \n",
    "window = Tk()\n",
    " \n",
    "btn1 = Button(window, text=\"1 출력\", command=lambda: print(1, \"버튼이 클릭\"))\n",
    "btn1.pack(side=LEFT)\n",
    "btn2 = Button(window, text=\"2 출력\", command=lambda: print(2, \"버튼이 클릭\"))\n",
    "btn2.pack(side=LEFT)\n",
    " \n",
    "quitBtn = Button(window, text=\"QUIT\", fg=\"red\", command=quit)\n",
    "quitBtn.pack(side=LEFT)\n",
    " \n",
    "mainloop()"
   ]
  },
  {
   "cell_type": "code",
   "execution_count": null,
   "id": "53410c9e",
   "metadata": {},
   "outputs": [],
   "source": []
  },
  {
   "cell_type": "code",
   "execution_count": 2,
   "id": "b81e6749",
   "metadata": {},
   "outputs": [
    {
     "name": "stdout",
     "output_type": "stream",
     "text": [
      "1 2 3 4 5 6 7 8 9 10 "
     ]
    }
   ],
   "source": [
    "# 제너레이터\n",
    "\n",
    "def MyCounterGen(low, high):\n",
    "    while low <= high:\n",
    "        yield low\n",
    "        low += 1\n",
    "        \n",
    "for i in MyCounterGen(1, 10):\n",
    "    print(i, end=' ')"
   ]
  },
  {
   "cell_type": "code",
   "execution_count": 12,
   "id": "2f576c17",
   "metadata": {},
   "outputs": [
    {
     "name": "stdout",
     "output_type": "stream",
     "text": [
      "1 1 2 3 5 8 13 21 34 55 89 144 233 377 610 987 1597 2584 4181 6765 \n",
      "0.0009984970092773438\n"
     ]
    }
   ],
   "source": [
    "\n",
    "import time\n",
    "def fib(n):    # 피보나치 수열 출력\n",
    "    a, b = 0, 1\n",
    "    while b < n:\n",
    "        print(b, end=' ')\n",
    "        a, b = b, a+b\n",
    "    print()\n",
    "\n",
    "start = time.time()\n",
    "fib(10000)\t\n",
    "end = time.time()\n",
    "print(end-start)\n"
   ]
  },
  {
   "cell_type": "code",
   "execution_count": 14,
   "id": "f6765bce",
   "metadata": {},
   "outputs": [
    {
     "name": "stdout",
     "output_type": "stream",
     "text": [
      "Impossible Dream\n"
     ]
    }
   ],
   "source": [
    "s1 =\"Impossible\"\n",
    "s2 =\" Dream\"\n",
    "s3 =s1.__add__(s2)\n",
    "print(s3)\n"
   ]
  },
  {
   "cell_type": "code",
   "execution_count": 18,
   "id": "7a62d406",
   "metadata": {},
   "outputs": [
    {
     "name": "stdout",
     "output_type": "stream",
     "text": [
      "1 1 2 3 5 8 13 21 34 55 89 144 233 377 610 987 \n"
     ]
    },
    {
     "data": {
      "text/plain": [
       "[1, 1, 2, 3, 5, 8, 13, 21, 34, 55, 89]"
      ]
     },
     "execution_count": 18,
     "metadata": {},
     "output_type": "execute_result"
    }
   ],
   "source": [
    "\n",
    "# 피보나치 수열 모듈로 짜기\n",
    "\n",
    "def fib(n):\n",
    "    a,b = 0,1\n",
    "    while b<n:\n",
    "        print(b, end=\" \")\n",
    "        a,b = b, a+b\n",
    "    print()\n",
    "    \n",
    "def fib2(n):\n",
    "    result = []\n",
    "    a,b = 0,1\n",
    "    while b<n:\n",
    "        result.append(b)\n",
    "        a,b = b, a+b\n",
    "    return result\n",
    "\n",
    "fib(1000)\n",
    "fib2(1000)\n",
    "    "
   ]
  },
  {
   "cell_type": "code",
   "execution_count": null,
   "id": "55cdf8db",
   "metadata": {},
   "outputs": [],
   "source": []
  },
  {
   "cell_type": "code",
   "execution_count": 25,
   "id": "0b6e6ef2",
   "metadata": {},
   "outputs": [
    {
     "name": "stdout",
     "output_type": "stream",
     "text": [
      "차량 =Tesla,Model S,White,10000,\n"
     ]
    }
   ],
   "source": [
    "# 상속 해보기\n",
    "\n",
    "\n",
    "class Car:\n",
    "    def __init__(self,make,model,color, price):\n",
    "        self.make = make\n",
    "        self.model = model\n",
    "        self.color = color\n",
    "        self.price = price\n",
    "        \n",
    "    def setMake(self, make):\n",
    "        self.make = make\n",
    "        \n",
    "    def getMake(self):\n",
    "        return self.make\n",
    "    \n",
    "    def getDesc(self):\n",
    "        return \"차량 =\" + str(self.make)+\",\"+\\\n",
    "                            str(self.model)+\",\"+\\\n",
    "                            str(self.color)+\",\"+\\\n",
    "                            str(self.price)+\",\"\n",
    "\n",
    "class ElectricCar(Car) :\n",
    "    def __init__(self, make, model, color, price, batterySize):\n",
    "        super().__init__(make, model, color, price)\n",
    "        self.batterySize=batterySize\n",
    "        \n",
    "    def setBatterySize(self, batterySize):\n",
    "        self.batterySize = batterySize\n",
    "        \n",
    "    def getBatterySize(self, batterySize):\n",
    "        self.batterySize = batterySize\n",
    "        \n",
    "def main():\n",
    "    myCar = ElectricCar(\"Tesla\", \"Model S\", \"White\", 10000, 0)\n",
    "    myCar.setMake(\"Tesla\")\n",
    "    myCar.setBatterySize(60)\n",
    "    print(myCar.getDesc())\n",
    "    \n",
    "    \n",
    "    \n",
    "main()"
   ]
  },
  {
   "cell_type": "code",
   "execution_count": null,
   "id": "17ccc4cf",
   "metadata": {},
   "outputs": [],
   "source": []
  },
  {
   "cell_type": "code",
   "execution_count": 30,
   "id": "35b970d9",
   "metadata": {},
   "outputs": [
    {
     "name": "stdout",
     "output_type": "stream",
     "text": [
      "이름:김철수  월급:2000 보너스:2000\n"
     ]
    }
   ],
   "source": [
    "# 메서드 오버라이딩\n",
    "\n",
    "class Employee:\n",
    "    def __init__(self, name, salary):\n",
    "        self.name = name\n",
    "        self.salary = salary\n",
    "        \n",
    "    \n",
    "    def getSalary(self):\n",
    "        return salary\n",
    "    \n",
    "class Manager(Employee):\n",
    "    def __init__(self, name, salary, bonus):\n",
    "        super().__init__(name, salary)\n",
    "        self.bonus = bonus\n",
    "        \n",
    "    def getSalary(self):\n",
    "        salary = super().getSalary()\n",
    "        return salary + self.bonus\n",
    "    \n",
    "    def __str__(self):\n",
    "        return \"이름:\" +self.name+ \" 월급:\"+str(self.salary)+  \\\n",
    "                \" 보너스:\"+str(self.bonus)\n",
    "        \n",
    "kim = Manager(\"김철수 \",2000,2000)\n",
    "print(kim)"
   ]
  },
  {
   "cell_type": "code",
   "execution_count": null,
   "id": "e2404021",
   "metadata": {},
   "outputs": [],
   "source": []
  },
  {
   "cell_type": "code",
   "execution_count": null,
   "id": "286cf46f",
   "metadata": {},
   "outputs": [],
   "source": [
    "# object 클래스\n",
    "\n",
    "# 생성자 __init__(self, [, args,,,])\n",
    "# 파괴자 __def__(self)\n",
    "# 객체표현__repr__(self)\n",
    "# 문자열 표현__str__(self)\n",
    "# 객체 비교__cmp__(self ,x)"
   ]
  },
  {
   "cell_type": "code",
   "execution_count": 32,
   "id": "a4527c12",
   "metadata": {},
   "outputs": [
    {
     "name": "stdout",
     "output_type": "stream",
     "text": [
      "ISBN : B0123456   TiTLE : The python Tutorial\n"
     ]
    }
   ],
   "source": [
    "class Book:\n",
    "    def __init__(self, title, isbn):\n",
    "        self.__title = title   #private\n",
    "        self.__isbn = isbn\n",
    "        \n",
    "    def __repr__(self):\n",
    "        return \"ISBN : \" + self.__isbn +\"   TiTLE : \" + self.__title\n",
    "    \n",
    "    \n",
    "book = Book(\"The python Tutorial\", \"B0123456\")\n",
    "print(book)"
   ]
  },
  {
   "cell_type": "code",
   "execution_count": null,
   "id": "a97932fa",
   "metadata": {},
   "outputs": [],
   "source": []
  },
  {
   "cell_type": "code",
   "execution_count": 80,
   "id": "dd7da7ff",
   "metadata": {},
   "outputs": [
    {
     "name": "stdout",
     "output_type": "stream",
     "text": [
      "2021-09-10 17:33:12.122235\n",
      "2021-09-10 17:33:12.122235\n",
      "\n",
      "datetime.datetime(2021, 9, 10, 17, 33, 12, 122235)\n"
     ]
    }
   ],
   "source": [
    "import datetime\n",
    "today = datetime.datetime.now()\n",
    "print(today)\n",
    "\n",
    "print(str(today))\n",
    "print()\n",
    "print(repr(today))"
   ]
  },
  {
   "cell_type": "code",
   "execution_count": 81,
   "id": "c9a9a283",
   "metadata": {},
   "outputs": [
    {
     "data": {
      "text/plain": [
       "'2021_09_10'"
      ]
     },
     "execution_count": 81,
     "metadata": {},
     "output_type": "execute_result"
    }
   ],
   "source": [
    "from datetime import date\n",
    "date=str(date.today())\n",
    "date = date.replace('-','_')\n",
    "date"
   ]
  },
  {
   "cell_type": "code",
   "execution_count": null,
   "id": "c5c5d917",
   "metadata": {},
   "outputs": [],
   "source": [
    "is a 와 has a 의 관계를 알아보자"
   ]
  },
  {
   "cell_type": "code",
   "execution_count": 89,
   "id": "8b6919eb",
   "metadata": {},
   "outputs": [
    {
     "name": "stdout",
     "output_type": "stream",
     "text": [
      "<__main__.Dog object at 0x00000290F02CFDC0>\n",
      "<__main__.Person object at 0x00000290F02CF580>\n"
     ]
    }
   ],
   "source": [
    "# is a 와 has a 의 관계를 알아보자\n",
    "\n",
    "class Animal(object):\n",
    "    pass\n",
    "\n",
    "class Dog(Animal):\n",
    "    def __init__(self, name):\n",
    "        self.name = name\n",
    "        \n",
    "        \n",
    "class Person(object):\n",
    "    def __init__(self, name):\n",
    "        self.name = name\n",
    "        self.pet = None\n",
    "\n",
    "dog1 = Dog(\"dog\")\n",
    "person1 = Person(\"홍길동\")\n",
    "person1.pet = dog1\n",
    "\n",
    "\n",
    "# 도글 클래스와 애니멀 클래스 -> is.a\n",
    "\n",
    "# 사람 클래스와 도그 클래스 -> has-a\n",
    "\n",
    "# has-a 관계에서는 하나늬 클래스 안에 다른 클래스를 가리키는 변수가\n",
    "# 포함되고, 여기에 객체가 생성되어 대입된다. \n",
    "    \n",
    "    \n",
    "\n",
    "    \n",
    "    "
   ]
  },
  {
   "cell_type": "code",
   "execution_count": 92,
   "id": "91269d00",
   "metadata": {},
   "outputs": [
    {
     "name": "stdout",
     "output_type": "stream",
     "text": [
      "['클럽 에이스', '클럽 2', '클럽 3', '클럽 4', '클럽 5', '클럽 6', '클럽 7', '클럽 8', '클럽 9', '클럽 10', '클럽 잭', '클럽 퀸', '클럽 킹', '다이아몬드 에이스', '다이아몬드 2', '다이아몬드 3', '다이아몬드 4', '다이아몬드 5', '다이아몬드 6', '다이아몬드 7', '다이아몬드 8', '다이아몬드 9', '다이아몬드 10', '다이아몬드 잭', '다이아몬드 퀸', '다이아몬드 킹', '하트 에이스', '하트 2', '하트 3', '하트 4', '하트 5', '하트 6', '하트 7', '하트 8', '하트 9', '하트 10', '하트 잭', '하트 퀸', '하트 킹', '스페이드 에이스', '스페이드 2', '스페이드 3', '스페이드 4', '스페이드 5', '스페이드 6', '스페이드 7', '스페이드 8', '스페이드 9', '스페이드 10', '스페이드 잭', '스페이드 퀸', '스페이드 킹']\n"
     ]
    }
   ],
   "source": [
    "\n",
    "\n",
    "class Card:\n",
    "    suitNames = ['클럽', '다이아몬드', '하트', '스페이드']\n",
    "    rankNames = [None, '에이스', '2', '3', '4', '5', '6', '7', \n",
    "              '8', '9', '10', '잭', '퀸', '킹']\n",
    "\n",
    "    def __init__(self, suit, rank):\n",
    "        self.suit = suit\n",
    "        self.rank = rank\n",
    "\n",
    "    def __str__(self):\n",
    "        return Card.suitNames[self.suit]+\" \"+\\\n",
    "                             Card.rankNames[self.rank]\n",
    "    \n",
    "    \n",
    "class Deck:\n",
    "    def __init__(self):\n",
    "        self.cards = []\n",
    "        for suit in range(4):\n",
    "            for rank in range(1, 14):\n",
    "                card = Card(suit, rank)\n",
    "                self.cards.append(card)\n",
    "    def __str__(self):\n",
    "        lst = [str(card) for card in self.cards]\n",
    "        return str(lst)\n",
    "\n",
    "deck = Deck()\n",
    "print(deck)"
   ]
  },
  {
   "cell_type": "code",
   "execution_count": null,
   "id": "4179af90",
   "metadata": {},
   "outputs": [],
   "source": []
  },
  {
   "cell_type": "code",
   "execution_count": null,
   "id": "5af86264",
   "metadata": {},
   "outputs": [],
   "source": []
  },
  {
   "cell_type": "code",
   "execution_count": null,
   "id": "dd47e3a0",
   "metadata": {},
   "outputs": [],
   "source": []
  }
 ],
 "metadata": {
  "kernelspec": {
   "display_name": "Python 3",
   "language": "python",
   "name": "python3"
  },
  "language_info": {
   "codemirror_mode": {
    "name": "ipython",
    "version": 3
   },
   "file_extension": ".py",
   "mimetype": "text/x-python",
   "name": "python",
   "nbconvert_exporter": "python",
   "pygments_lexer": "ipython3",
   "version": "3.8.8"
  }
 },
 "nbformat": 4,
 "nbformat_minor": 5
}
