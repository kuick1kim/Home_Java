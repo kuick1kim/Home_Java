{
 "cells": [
  {
   "cell_type": "code",
   "execution_count": 2,
   "id": "dd0f74a1",
   "metadata": {},
   "outputs": [
    {
     "data": {
      "text/plain": [
       "'h'"
      ]
     },
     "execution_count": 2,
     "metadata": {},
     "output_type": "execute_result"
    }
   ],
   "source": [
    "s= \"hello World\"\n",
    "s[0]"
   ]
  },
  {
   "cell_type": "code",
   "execution_count": 3,
   "id": "c1d7b9b6",
   "metadata": {},
   "outputs": [
    {
     "data": {
      "text/plain": [
       "'o'"
      ]
     },
     "execution_count": 3,
     "metadata": {},
     "output_type": "execute_result"
    }
   ],
   "source": [
    "s[7]"
   ]
  },
  {
   "cell_type": "code",
   "execution_count": 4,
   "id": "b51ad4aa",
   "metadata": {},
   "outputs": [
    {
     "name": "stdout",
     "output_type": "stream",
     "text": [
      "k과p\n"
     ]
    }
   ],
   "source": [
    "a= \"kim\"\n",
    "b=\"park\"\n",
    "my = a[0] +'과'+b[0]\n",
    "print(my)"
   ]
  },
  {
   "cell_type": "markdown",
   "id": "5c666567",
   "metadata": {},
   "source": [
    "# 조건연산자 해보기"
   ]
  },
  {
   "cell_type": "code",
   "execution_count": 5,
   "id": "62c42605",
   "metadata": {},
   "outputs": [
    {
     "name": "stdout",
     "output_type": "stream",
     "text": [
      "첫번째 수=\n"
     ]
    },
    {
     "ename": "ValueError",
     "evalue": "invalid literal for int() with base 10: ''",
     "output_type": "error",
     "traceback": [
      "\u001b[1;31m---------------------------------------------------------------------------\u001b[0m",
      "\u001b[1;31mValueError\u001b[0m                                Traceback (most recent call last)",
      "\u001b[1;32m<ipython-input-5-bb8bdd0e5557>\u001b[0m in \u001b[0;36m<module>\u001b[1;34m\u001b[0m\n\u001b[1;32m----> 1\u001b[1;33m \u001b[0mx\u001b[0m\u001b[1;33m=\u001b[0m \u001b[0mint\u001b[0m\u001b[1;33m(\u001b[0m\u001b[0minput\u001b[0m\u001b[1;33m(\u001b[0m\u001b[1;34m\"첫번째 수=\"\u001b[0m\u001b[1;33m)\u001b[0m\u001b[1;33m)\u001b[0m\u001b[1;33m\u001b[0m\u001b[1;33m\u001b[0m\u001b[0m\n\u001b[0m\u001b[0;32m      2\u001b[0m \u001b[0my\u001b[0m\u001b[1;33m=\u001b[0m \u001b[0mint\u001b[0m\u001b[1;33m(\u001b[0m\u001b[0minput\u001b[0m\u001b[1;33m(\u001b[0m\u001b[1;34m\"두번째 수=\"\u001b[0m\u001b[1;33m)\u001b[0m\u001b[1;33m)\u001b[0m\u001b[1;33m\u001b[0m\u001b[1;33m\u001b[0m\u001b[0m\n\u001b[0;32m      3\u001b[0m \u001b[0mmax_value\u001b[0m \u001b[1;33m=\u001b[0m \u001b[1;33m(\u001b[0m\u001b[0mx\u001b[0m \u001b[1;32mif\u001b[0m \u001b[0mx\u001b[0m\u001b[1;33m>\u001b[0m\u001b[0my\u001b[0m \u001b[1;32melse\u001b[0m \u001b[0my\u001b[0m\u001b[1;33m)\u001b[0m\u001b[1;33m\u001b[0m\u001b[1;33m\u001b[0m\u001b[0m\n\u001b[0;32m      4\u001b[0m \u001b[0mmin_value\u001b[0m \u001b[1;33m=\u001b[0m \u001b[1;33m(\u001b[0m\u001b[0my\u001b[0m \u001b[1;32mif\u001b[0m \u001b[0mx\u001b[0m\u001b[1;33m>\u001b[0m\u001b[0my\u001b[0m \u001b[1;32melse\u001b[0m \u001b[0mx\u001b[0m\u001b[1;33m)\u001b[0m\u001b[1;33m\u001b[0m\u001b[1;33m\u001b[0m\u001b[0m\n\u001b[0;32m      5\u001b[0m \u001b[0mprint\u001b[0m\u001b[1;33m(\u001b[0m\u001b[1;34m\"큰수 =\"\u001b[0m\u001b[1;33m,\u001b[0m \u001b[0mmax_value\u001b[0m\u001b[1;33m,\u001b[0m \u001b[1;34m\"작은수 =\"\u001b[0m \u001b[1;33m,\u001b[0m \u001b[0mmin_value\u001b[0m\u001b[1;33m)\u001b[0m\u001b[1;33m\u001b[0m\u001b[1;33m\u001b[0m\u001b[0m\n",
      "\u001b[1;31mValueError\u001b[0m: invalid literal for int() with base 10: ''"
     ]
    }
   ],
   "source": [
    "x= int(input(\"첫번째 수=\"))\n",
    "y= int(input(\"두번째 수=\"))\n",
    "max_value = (x if x>y else y)\n",
    "min_value = (y if x>y else x)\n",
    "print(\"큰수 =\", max_value, \"작은수 =\" , min_value)"
   ]
  },
  {
   "cell_type": "markdown",
   "id": "b70edd0c",
   "metadata": {},
   "source": [
    "# 홀짝문제하는 것이다 "
   ]
  },
  {
   "cell_type": "code",
   "execution_count": null,
   "id": "845388d6",
   "metadata": {},
   "outputs": [],
   "source": [
    "number = int(input(\"정수를 입력하시오: \"))\n",
    "\n",
    "if number%2 ==0:\n",
    "        print(\"짝수\")\n",
    "else:\n",
    "    print(\"홀수\")"
   ]
  },
  {
   "cell_type": "markdown",
   "id": "5911b450",
   "metadata": {},
   "source": [
    "# 세일가격 해보기 "
   ]
  },
  {
   "cell_type": "markdown",
   "id": "6727cd58",
   "metadata": {},
   "source": [
    "- 100만원 미만이면 10% 이상이면 15%할인 \n",
    "- 100만원 이상이면 15%"
   ]
  },
  {
   "cell_type": "code",
   "execution_count": null,
   "id": "6b738199",
   "metadata": {},
   "outputs": [],
   "source": [
    "a= int(input(\"가격을 입력하세요\"))\n",
    "\n",
    "if a>=1000000:\n",
    "    print(a*0.85)\n",
    "else:\n",
    "    print(a*0.9)"
   ]
  },
  {
   "cell_type": "code",
   "execution_count": null,
   "id": "2ef7e858",
   "metadata": {},
   "outputs": [],
   "source": [
    "price=int(input(\"가격을 입력하세요(만원)\"))\n",
    "if price >=100:\n",
    "    dis_rate=0.85\n",
    "    print()\n",
    "    print(\"10층에서 사은품을 가져가세요 \")\n",
    "else:\n",
    "    dis_rate=0.85\n",
    "    print()\n",
    "    print(\"안녕히 가세요\")\n",
    "    \n",
    "dis_price = dis_rate * price\n",
    "print()\n",
    "print(\"할인된 상품된 가격=\", dis_price,\"만원입니다.\")"
   ]
  },
  {
   "cell_type": "code",
   "execution_count": null,
   "id": "dfc746d4",
   "metadata": {},
   "outputs": [],
   "source": []
  },
  {
   "cell_type": "markdown",
   "id": "d120060b",
   "metadata": {},
   "source": [
    "# 논리연산자 해보기"
   ]
  },
  {
   "cell_type": "markdown",
   "id": "fed82ec3",
   "metadata": {},
   "source": [
    "1. and\n",
    "2. or\n",
    "3. nor"
   ]
  },
  {
   "cell_type": "code",
   "execution_count": null,
   "id": "c6a624fc",
   "metadata": {},
   "outputs": [],
   "source": [
    "price =int(input(\"가격을 입력하시오:\"))\n",
    "# card = input(\"카드의 종류:\")\n",
    "\n",
    "if price >30000:\n",
    "    print(\"배송료가 없음\")\n",
    "    \n",
    "else:     \n",
    "    print(\"배송료가 300원 있음\")"
   ]
  },
  {
   "cell_type": "code",
   "execution_count": null,
   "id": "0a44b58d",
   "metadata": {},
   "outputs": [],
   "source": []
  },
  {
   "cell_type": "markdown",
   "id": "3fc830ae",
   "metadata": {},
   "source": [
    "# 드모르간의 법칙"
   ]
  },
  {
   "cell_type": "markdown",
   "id": "333384c3",
   "metadata": {},
   "source": [
    "1. ㄴ이라ㅓ\n",
    "2. ㅁ니;아ㅓㄹ\n",
    "3.미나ㅓㅇㄹ"
   ]
  },
  {
   "cell_type": "code",
   "execution_count": null,
   "id": "6cde1164",
   "metadata": {},
   "outputs": [],
   "source": [
    "# 일반경우\n",
    "if not(country ==\"한국\" and province!=제주);\n",
    "    shipping_cost = 8000\n",
    "    \n",
    "if not(country ==\"한국\" or province!=제주);\n",
    "    shipping_cost = 8000"
   ]
  },
  {
   "cell_type": "code",
   "execution_count": null,
   "id": "d452aa5e",
   "metadata": {},
   "outputs": [],
   "source": []
  },
  {
   "cell_type": "markdown",
   "id": "6ed3aeeb",
   "metadata": {},
   "source": [
    "# 동전던지기 <br> 랜덤 임포트 하여 랜덤 변수가 생김"
   ]
  },
  {
   "cell_type": "code",
   "execution_count": null,
   "id": "6d3a9df5",
   "metadata": {},
   "outputs": [],
   "source": [
    "import random\n",
    "\n",
    "\n",
    "print(\"동전 던지기 게임\")\n",
    "coin = random.randrange(2)\n",
    "if coin==0:\n",
    "    print(\"앞면입니다. ============\")\n",
    "else:\n",
    "    print(\"=============뒷면입니다. \")\n",
    "    \n",
    "print(\"게임이 종료\")"
   ]
  },
  {
   "cell_type": "markdown",
   "id": "8a21f43a",
   "metadata": {},
   "source": [
    "# 거북이 다시 해보기 "
   ]
  },
  {
   "cell_type": "code",
   "execution_count": null,
   "id": "165754be",
   "metadata": {},
   "outputs": [],
   "source": [
    "import turtle\n",
    "\n",
    "t= turtle.Turtle()\n",
    "t.shape(\"turtle\")\n",
    "t.width(3)\n",
    "t.shapesize(3)\n",
    "\n",
    "while True:\n",
    "    command = input(\"명령어 입력하세요\")\n",
    "    if command ==\"a\":\n",
    "        t.left(90)\n",
    "        t.forward(100)\n",
    "    if command ==\"w\":\n",
    "       \n",
    "        t.forward(100)\n",
    "    if command ==\"d\":\n",
    "        t.right(90)\n",
    "        t.forward(100)\n",
    "        \n",
    "    if command ==\"q\":\n",
    "        break\n",
    "\n",
    "\n",
    "turtle.mainloop()\n",
    "turtle.bye()"
   ]
  },
  {
   "cell_type": "code",
   "execution_count": null,
   "id": "3fef0e75",
   "metadata": {},
   "outputs": [],
   "source": []
  },
  {
   "cell_type": "markdown",
   "id": "def0c427",
   "metadata": {},
   "source": [
    "# 중첩 if 해보기"
   ]
  },
  {
   "cell_type": "code",
   "execution_count": 6,
   "id": "8f0ee27b",
   "metadata": {},
   "outputs": [
    {
     "name": "stdout",
     "output_type": "stream",
     "text": [
      "배송지(현재는 korea와 us만 가능) :korea\n",
      "상품가격 :20000\n",
      "배송비= 0\n"
     ]
    }
   ],
   "source": [
    "country = input(\"배송지(현재는 korea와 us만 가능) :\")\n",
    "price = int(input(\"상품가격 :\"))\n",
    "\n",
    "# 배송비 결정하는방법\n",
    "\n",
    "if country ==\"korea\":\n",
    "    if price >=20000 :\n",
    "        shipping_cost = 0\n",
    "    else:\n",
    "        shipping_cost =3000\n",
    "else:\n",
    "    if price >=100000 :\n",
    "        shipping_cost = 0\n",
    "    else:\n",
    "        shipping_cost =2000\n",
    "        \n",
    "print(\"배송비=\" , shipping_cost)"
   ]
  },
  {
   "cell_type": "code",
   "execution_count": null,
   "id": "5d604f32",
   "metadata": {},
   "outputs": [],
   "source": []
  },
  {
   "cell_type": "markdown",
   "id": "63703929",
   "metadata": {},
   "source": [
    "# 연속 if 한번 해보기"
   ]
  },
  {
   "cell_type": "code",
   "execution_count": 11,
   "id": "8582931f",
   "metadata": {},
   "outputs": [
    {
     "name": "stdout",
     "output_type": "stream",
     "text": [
      "리히터 규모 입력 :50\n",
      "\n",
      "대부분 구조물 붕괴 ========콰광\n"
     ]
    }
   ],
   "source": [
    "# 지진규모 알아보기 리히터 규모 알아보기\n",
    "\n",
    "scale = float(input(\"리히터 규모 입력 :\"))\n",
    "print()\n",
    "\n",
    "if scale >= 8.0:\n",
    "    print(\"대부분 구조물 붕괴 ========콰광\")\n",
    "elif scale >=7.0:\n",
    "    print(\"지표면에 균열이 발생\")\n",
    "elif scale >=4.0:\n",
    "    print(\"빈약한 건물에 큰 피해\")\n",
    "elif scale >=2.0:\n",
    "    print(\"물건이 흔들리거나 떨어짐=====콰광\")\n",
    "else :\n",
    "    print(\"지진계에 의해서만 탐지 가능\")\n",
    "    "
   ]
  },
  {
   "cell_type": "code",
   "execution_count": null,
   "id": "49f95388",
   "metadata": {},
   "outputs": [],
   "source": []
  },
  {
   "cell_type": "markdown",
   "id": "54c05847",
   "metadata": {},
   "source": [
    "# 오늘의 운세 프로그램<br><br> 랜덤변수 사용해보기"
   ]
  },
  {
   "cell_type": "code",
   "execution_count": 40,
   "id": "58063747",
   "metadata": {},
   "outputs": [
    {
     "name": "stdout",
     "output_type": "stream",
     "text": [
      "행운의 매직볼로 오늘의 운세 출력\n",
      "\n",
      "거절하세요. \n"
     ]
    }
   ],
   "source": [
    "import random\n",
    "\n",
    "\n",
    "print(\"행운의 매직볼로 오늘의 운세 출력\")\n",
    "print()\n",
    "answers = random.randrange(1,8)\n",
    "if answers == 1:\n",
    "    print(\"확실히 이루어짐\")\n",
    "elif answers == 2:\n",
    "    print(\"거절하세요. \")\n",
    "elif answers == 3:\n",
    "    print(\"좋아보입니다. \")\n",
    "elif answers == 4:\n",
    "    print(\"믿어도됨. \")\n",
    "else:\n",
    "    print(\"다시 질문해 주세요. \")\n"
   ]
  },
  {
   "cell_type": "code",
   "execution_count": null,
   "id": "92f00a69",
   "metadata": {},
   "outputs": [],
   "source": []
  },
  {
   "cell_type": "markdown",
   "id": "21a70540",
   "metadata": {},
   "source": [
    "## 사용자가 입력하는 축구 께임 <br><br> 랜덤변수 사용하기"
   ]
  },
  {
   "cell_type": "code",
   "execution_count": 54,
   "id": "ef1044ab",
   "metadata": {},
   "outputs": [
    {
     "name": "stdout",
     "output_type": "stream",
     "text": [
      "어디를 수비(왼쪽 :1 , 가운데 :2 , 오른쪽: 3)1\n",
      "수비에 성공\n"
     ]
    }
   ],
   "source": [
    "import random\n",
    "\n",
    "computer_choice = random.randint(1,3)\n",
    "user_choice = int(input(\"어디를 수비(왼쪽 :1 , 가운데 :2 , 오른쪽: 3)\"))\n",
    "\n",
    "\n",
    "if computer_choice == user_choice:\n",
    "    print(\"수비에 성공\")\n",
    "else :\n",
    "    print(\"페널트킥이 성공\")"
   ]
  },
  {
   "cell_type": "code",
   "execution_count": null,
   "id": "f18eb7b6",
   "metadata": {},
   "outputs": [],
   "source": []
  },
  {
   "cell_type": "markdown",
   "id": "81594963",
   "metadata": {},
   "source": [
    "# 삼각형 프로그램 해보기 "
   ]
  },
  {
   "cell_type": "code",
   "execution_count": 60,
   "id": "5aa684dd",
   "metadata": {},
   "outputs": [
    {
     "name": "stdout",
     "output_type": "stream",
     "text": [
      "삼각형 a의 한변 입력 :70\n",
      "삼각형 b의 한변 입력 :20\n",
      "삼각형 c의 한변 입력 :20\n",
      " 삼각형 아님 \n"
     ]
    }
   ],
   "source": [
    "\n",
    "a = int(input(\"삼각형 a의 한변 입력 :\"))\n",
    "b = int(input(\"삼각형 b의 한변 입력 :\"))\n",
    "c = int(input(\"삼각형 c의 한변 입력 :\"))\n",
    "\n",
    "if (a+b) > c and (b+c) >a and ( a+c) >b:\n",
    "    print(\"올바른 삼각형 \")\n",
    "else:\n",
    "    print(\" 삼각형 아님 \")"
   ]
  },
  {
   "cell_type": "code",
   "execution_count": null,
   "id": "e3278601",
   "metadata": {},
   "outputs": [],
   "source": []
  },
  {
   "cell_type": "markdown",
   "id": "cf11c004",
   "metadata": {},
   "source": [
    "# 간단한 반복문"
   ]
  },
  {
   "cell_type": "code",
   "execution_count": 209,
   "id": "23daab3f",
   "metadata": {},
   "outputs": [
    {
     "name": "stdout",
     "output_type": "stream",
     "text": [
      "방문을 환영합니다. \n",
      "7\n",
      "방문을 환영합니다. \n",
      "5\n",
      "방문을 환영합니다. \n",
      "3\n",
      "방문을 환영합니다. \n",
      "1\n",
      "방문을 환영합니다. \n",
      "-1\n"
     ]
    }
   ],
   "source": [
    "import random\n",
    "\n",
    "a = random.randint(1,15)\n",
    "\n",
    "for i in range(0, a, 2):\n",
    "    print(\"방문을 환영합니다. \")\n",
    "    a= a-2\n",
    "    print(a)"
   ]
  },
  {
   "cell_type": "code",
   "execution_count": null,
   "id": "8bf5925d",
   "metadata": {},
   "outputs": [],
   "source": []
  },
  {
   "cell_type": "markdown",
   "id": "01d0110b",
   "metadata": {},
   "source": [
    "### 파이썬에서 가장 널리 사용되는 데이터 구조는 리스트 입니다. LIST"
   ]
  },
  {
   "cell_type": "code",
   "execution_count": 212,
   "id": "3ee94aa2",
   "metadata": {},
   "outputs": [
    {
     "name": "stdout",
     "output_type": "stream",
     "text": [
      "[1, 2.6, 6, '리스트']\n",
      "2.6\n",
      "리스트\n"
     ]
    }
   ],
   "source": [
    "list =[]\n",
    "list.append(1)\n",
    "list.append(2.6)\n",
    "list.append(6)\n",
    "list.append(\"리스트\")\n",
    "\n",
    "print(list)\n",
    "print(list[1])\n",
    "print(list[3])"
   ]
  },
  {
   "cell_type": "code",
   "execution_count": 215,
   "id": "d22c922e",
   "metadata": {},
   "outputs": [
    {
     "name": "stdout",
     "output_type": "stream",
     "text": [
      "방문을 환영합니다\n",
      "방문을 환영합니다\n",
      "방문을 환영합니다\n",
      "방문을 환영합니다\n",
      "방문을 환영합니다\n"
     ]
    }
   ],
   "source": [
    "\n",
    "for i in [1,2,14,4,6]:\n",
    "    print(\"방문을 환영합니다\")"
   ]
  },
  {
   "cell_type": "code",
   "execution_count": 216,
   "id": "00abad42",
   "metadata": {},
   "outputs": [
    {
     "name": "stdout",
     "output_type": "stream",
     "text": [
      "1\n",
      "2\n",
      "14\n",
      "4\n",
      "6\n"
     ]
    }
   ],
   "source": [
    "# 내가 원하는 값만 출력하고 싶을때\n",
    "for i in [1,2,14,4,6]:\n",
    "    print(i)"
   ]
  },
  {
   "cell_type": "code",
   "execution_count": 218,
   "id": "d448141d",
   "metadata": {},
   "outputs": [
    {
     "name": "stdout",
     "output_type": "stream",
     "text": [
      "1\n",
      "2\n",
      "14\n",
      "6\n"
     ]
    }
   ],
   "source": [
    "list = [1,2,14,6]\n",
    "for i in list:\n",
    "    print(i)"
   ]
  },
  {
   "cell_type": "code",
   "execution_count": 221,
   "id": "1db7e9fd",
   "metadata": {},
   "outputs": [
    {
     "name": "stdout",
     "output_type": "stream",
     "text": [
      "student10\n",
      "student8\n",
      "student6\n"
     ]
    }
   ],
   "source": [
    "for i in range(10 , 5, -2):\n",
    "    print(\"student\" + str(i))"
   ]
  },
  {
   "cell_type": "code",
   "execution_count": 225,
   "id": "aec9e197",
   "metadata": {},
   "outputs": [
    {
     "name": "stdout",
     "output_type": "stream",
     "text": [
      "1\n",
      "3\n"
     ]
    }
   ],
   "source": [
    "for i in range(1 , 5, 2): #마지막 숫자는 알려주지 않음\n",
    "    print(i)"
   ]
  },
  {
   "cell_type": "code",
   "execution_count": null,
   "id": "9d99a6ea",
   "metadata": {},
   "outputs": [],
   "source": []
  },
  {
   "cell_type": "markdown",
   "id": "4f67907a",
   "metadata": {},
   "source": [
    "# 팩토리얼 계산"
   ]
  },
  {
   "cell_type": "code",
   "execution_count": 228,
   "id": "32c53e81",
   "metadata": {},
   "outputs": [
    {
     "name": "stdout",
     "output_type": "stream",
     "text": [
      "정수 입력 : 5\n",
      "5 은 120 이다\n"
     ]
    }
   ],
   "source": [
    "n= int(input(\"정수 입력 : \"))\n",
    "fact = 1\n",
    "for i in range(1, n+1):\n",
    "    fact =fact * i\n",
    "print(n, \"!은\" , fact, \"이다\")"
   ]
  },
  {
   "cell_type": "code",
   "execution_count": null,
   "id": "24996bd1",
   "metadata": {},
   "outputs": [],
   "source": []
  },
  {
   "cell_type": "code",
   "execution_count": 236,
   "id": "18a1230d",
   "metadata": {},
   "outputs": [
    {
     "ename": "Terminator",
     "evalue": "",
     "output_type": "error",
     "traceback": [
      "\u001b[1;31m---------------------------------------------------------------------------\u001b[0m",
      "\u001b[1;31mTerminator\u001b[0m                                Traceback (most recent call last)",
      "\u001b[1;32m<ipython-input-236-c5e84a6fa513>\u001b[0m in \u001b[0;36m<module>\u001b[1;34m\u001b[0m\n\u001b[0;32m     12\u001b[0m \u001b[1;33m\u001b[0m\u001b[0m\n\u001b[0;32m     13\u001b[0m \u001b[0mturtle\u001b[0m\u001b[1;33m.\u001b[0m\u001b[0mmainloop\u001b[0m\u001b[1;33m(\u001b[0m\u001b[1;33m)\u001b[0m\u001b[1;33m\u001b[0m\u001b[1;33m\u001b[0m\u001b[0m\n\u001b[1;32m---> 14\u001b[1;33m \u001b[0mturtle\u001b[0m\u001b[1;33m.\u001b[0m\u001b[0mbye\u001b[0m\u001b[1;33m(\u001b[0m\u001b[1;33m)\u001b[0m\u001b[1;33m\u001b[0m\u001b[1;33m\u001b[0m\u001b[0m\n\u001b[0m",
      "\u001b[1;32m~\\anaconda31\\lib\\turtle.py\u001b[0m in \u001b[0;36mbye\u001b[1;34m()\u001b[0m\n",
      "\u001b[1;31mTerminator\u001b[0m: "
     ]
    }
   ],
   "source": [
    "import turtle\n",
    " \n",
    "t= turtle.Turtle()\n",
    "t.shape(\"turtle\")\n",
    "\n",
    "s= turtle. textinput(\"\", \"몇각형을 원하십니까?\")\n",
    "n = int(s)\n",
    "\n",
    "for i in range(n):\n",
    "    t.forward(30)\n",
    "    t.left(360/n)\n",
    "    \n",
    "turtle.mainloop()\n",
    "turtle.bye()"
   ]
  },
  {
   "cell_type": "markdown",
   "id": "7f968b98",
   "metadata": {},
   "source": [
    "# 방정식에 해를 구하는 것"
   ]
  },
  {
   "cell_type": "code",
   "execution_count": 238,
   "id": "f312cd25",
   "metadata": {},
   "outputs": [
    {
     "name": "stdout",
     "output_type": "stream",
     "text": [
      "방정식의 해는 1.62\n"
     ]
    }
   ],
   "source": [
    "COUNT =100\n",
    "START = 1.0\n",
    "END = 2.0\n",
    "\n",
    "for i in range(COUNT):\n",
    "    x = START + i*((END-START)/COUNT)\n",
    "    f= (x**2 - x - 1)\n",
    "    if abs(f -0.0)<0.01:\n",
    "        print(\"방정식의 해는\", x)"
   ]
  },
  {
   "cell_type": "code",
   "execution_count": null,
   "id": "f3efcac3",
   "metadata": {},
   "outputs": [],
   "source": []
  },
  {
   "cell_type": "markdown",
   "id": "9c55d279",
   "metadata": {},
   "source": [
    "# While 문 배워보기"
   ]
  },
  {
   "cell_type": "markdown",
   "id": "f902247e",
   "metadata": {},
   "source": [
    "### 투자금이 2배가 되는데 걸리는 시간 계산 "
   ]
  },
  {
   "cell_type": "code",
   "execution_count": 251,
   "id": "ad78daef",
   "metadata": {},
   "outputs": [
    {
     "name": "stdout",
     "output_type": "stream",
     "text": [
      "24 년\n"
     ]
    }
   ],
   "source": [
    "TARGET = 2000\n",
    "MONEY = 1000\n",
    "YEAR = 0\n",
    "RATE = 0.03\n",
    "\n",
    "while MONEY < TARGET:   \n",
    "    MONEY = MONEY + MONEY*RATE\n",
    "    YEAR = YEAR +1\n",
    "    \n",
    "print(YEAR,\"년\")"
   ]
  },
  {
   "cell_type": "code",
   "execution_count": 250,
   "id": "bdb9ff4b",
   "metadata": {},
   "outputs": [
    {
     "name": "stdout",
     "output_type": "stream",
     "text": [
      "합계는 4950\n"
     ]
    }
   ],
   "source": [
    "i = 1\n",
    "sum = 0\n",
    "\n",
    "while i <= 99:\n",
    "    sum = sum +i\n",
    "    i = i +1\n",
    "\n",
    "print(\"합계는\", sum)"
   ]
  },
  {
   "cell_type": "code",
   "execution_count": 249,
   "id": "aaa99acd",
   "metadata": {},
   "outputs": [
    {
     "name": "stdout",
     "output_type": "stream",
     "text": [
      "원하는단9\n",
      " 9 *  1 = 9\n",
      " 9 *  2 =18\n",
      " 9 *  3 =27\n",
      " 9 *  4 =36\n",
      " 9 *  5 =45\n",
      " 9 *  6 =54\n",
      " 9 *  7 =63\n",
      " 9 *  8 =72\n",
      " 9 *  9 =81\n"
     ]
    }
   ],
   "source": [
    "dan = int(input(\"원하는단\"))\n",
    "i =1\n",
    "\n",
    "while i <= 9:\n",
    "    print(\"%2d * %2d =%2d\"%(dan, i, dan*i))\n",
    "    i=i+1\n"
   ]
  },
  {
   "cell_type": "code",
   "execution_count": 257,
   "id": "7c37812f",
   "metadata": {},
   "outputs": [
    {
     "name": "stdout",
     "output_type": "stream",
     "text": [
      "1에서 100 사이의 숫자를 맞춰보세요\n",
      "숫자넣으세요50\n",
      "너무 낮아요\n",
      "숫자넣으세요75\n",
      "너무 낮아요\n",
      "숫자넣으세요85\n",
      "너무 낮아요\n",
      "숫자넣으세요90\n",
      "너무 높아요\n",
      "숫자넣으세요93\n",
      "너무 높아요\n",
      "숫자넣으세요88\n",
      "너무 높아요\n",
      "숫자넣으세요87\n",
      "축하합니다.시도횟수 :  7\n",
      "정답은 : 87\n"
     ]
    }
   ],
   "source": [
    "# 숫자 맞추기 게임 \n",
    "# 1에서 100 사이의 숫자를 맞추는 게임\n",
    "\n",
    "import random\n",
    "\n",
    "tries = 0\n",
    "guess = 0\n",
    "answer = random.randint(1,100)\n",
    "\n",
    "print(\"1에서 100 사이의 숫자를 맞춰보세요\")\n",
    "while guess !=answer:\n",
    "    guess = int(input(\"숫자넣으세요\"))\n",
    "    tries = tries +1\n",
    "    if guess<answer:\n",
    "        print(\"너무 낮아요\")\n",
    "    elif guess>answer:\n",
    "        print(\"너무 높아요\")\n",
    "\n",
    "if guess ==answer:\n",
    "    print(\"축하합니다.시도횟수 : \",tries )\n",
    "    print(\"정답은 :\" ,answer)\n",
    "else: \n",
    "    print()\n",
    "    "
   ]
  },
  {
   "cell_type": "code",
   "execution_count": null,
   "id": "95d1be3f",
   "metadata": {},
   "outputs": [],
   "source": []
  },
  {
   "cell_type": "code",
   "execution_count": 260,
   "id": "4008711f",
   "metadata": {},
   "outputs": [
    {
     "name": "stdout",
     "output_type": "stream",
     "text": [
      "암호를 입력하세요:py\n",
      "성공\n"
     ]
    }
   ],
   "source": [
    "#로그인 하는방법\n",
    "\n",
    "password = \"\"\n",
    "while password !=\"py\":\n",
    "    password = input(\"암호를 입력하세요:\")\n",
    "print(\"성공\")"
   ]
  },
  {
   "cell_type": "code",
   "execution_count": 263,
   "id": "95b2f88f",
   "metadata": {},
   "outputs": [
    {
     "name": "stdout",
     "output_type": "stream",
     "text": [
      "Kim 이 Korean 식당을 방문\n",
      "Kim 이 American 식당을 방문\n",
      "Kim 이 French 식당을 방문\n",
      "Park 이 Korean 식당을 방문\n",
      "Park 이 American 식당을 방문\n",
      "Park 이 French 식당을 방문\n",
      "Lee 이 Korean 식당을 방문\n",
      "Lee 이 American 식당을 방문\n",
      "Lee 이 French 식당을 방문\n"
     ]
    }
   ],
   "source": [
    "# 중첩 반복문 짜보기\n",
    "persons = [\"Kim\",\"Park\",\"Lee\"]\n",
    "restaurants = [\"Korean\",\"American\",\"French\"]\n",
    "\n",
    "for person in persons:\n",
    "    for restaurant in restaurants:\n",
    "        print(person , \"이\" , restaurant , \"식당을 방문\")\n",
    "    "
   ]
  },
  {
   "cell_type": "code",
   "execution_count": 274,
   "id": "5e45ad5f",
   "metadata": {},
   "outputs": [],
   "source": [
    "# break 반대는 contiue 이다\n",
    "\n",
    "for i in range(1, 11):\n",
    "    if i%3 ==0:\n",
    "        continue\n",
    "        print(i, end=\" \")"
   ]
  },
  {
   "cell_type": "code",
   "execution_count": null,
   "id": "30b312d1",
   "metadata": {},
   "outputs": [],
   "source": []
  },
  {
   "cell_type": "code",
   "execution_count": null,
   "id": "36706483",
   "metadata": {},
   "outputs": [],
   "source": []
  },
  {
   "cell_type": "code",
   "execution_count": null,
   "id": "c7cd4531",
   "metadata": {},
   "outputs": [],
   "source": []
  },
  {
   "cell_type": "code",
   "execution_count": null,
   "id": "becec46e",
   "metadata": {},
   "outputs": [],
   "source": []
  }
 ],
 "metadata": {
  "kernelspec": {
   "display_name": "Python 3",
   "language": "python",
   "name": "python3"
  },
  "language_info": {
   "codemirror_mode": {
    "name": "ipython",
    "version": 3
   },
   "file_extension": ".py",
   "mimetype": "text/x-python",
   "name": "python",
   "nbconvert_exporter": "python",
   "pygments_lexer": "ipython3",
   "version": "3.8.8"
  }
 },
 "nbformat": 4,
 "nbformat_minor": 5
}
