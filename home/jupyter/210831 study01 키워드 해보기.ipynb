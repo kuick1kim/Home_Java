{
 "cells": [
  {
   "cell_type": "code",
   "execution_count": 5,
   "id": "40543077",
   "metadata": {},
   "outputs": [
    {
     "data": {
      "text/plain": [
       "int"
      ]
     },
     "execution_count": 5,
     "metadata": {},
     "output_type": "execute_result"
    }
   ],
   "source": [
    "type(1234)"
   ]
  },
  {
   "cell_type": "code",
   "execution_count": 73,
   "id": "a2f518d1",
   "metadata": {},
   "outputs": [
    {
     "data": {
      "text/plain": [
       "int"
      ]
     },
     "execution_count": 73,
     "metadata": {},
     "output_type": "execute_result"
    }
   ],
   "source": [
    "type(a)"
   ]
  },
  {
   "cell_type": "code",
   "execution_count": null,
   "id": "92802c65",
   "metadata": {},
   "outputs": [],
   "source": []
  },
  {
   "cell_type": "code",
   "execution_count": null,
   "id": "508bde58",
   "metadata": {},
   "outputs": [],
   "source": []
  },
  {
   "cell_type": "code",
   "execution_count": null,
   "id": "b7512498",
   "metadata": {},
   "outputs": [],
   "source": []
  },
  {
   "cell_type": "code",
   "execution_count": null,
   "id": "04195944",
   "metadata": {},
   "outputs": [],
   "source": []
  },
  {
   "cell_type": "code",
   "execution_count": 74,
   "id": "9b0f5c6f",
   "metadata": {},
   "outputs": [
    {
     "data": {
      "text/plain": [
       "140720918046576"
      ]
     },
     "execution_count": 74,
     "metadata": {},
     "output_type": "execute_result"
    }
   ],
   "source": [
    "x=3\n",
    "id(x)"
   ]
  },
  {
   "cell_type": "code",
   "execution_count": 75,
   "id": "37a6f92d",
   "metadata": {},
   "outputs": [
    {
     "data": {
      "text/plain": [
       "140720918046576"
      ]
     },
     "execution_count": 75,
     "metadata": {},
     "output_type": "execute_result"
    }
   ],
   "source": [
    "y=x\n",
    "id(y)"
   ]
  },
  {
   "cell_type": "code",
   "execution_count": 76,
   "id": "23785efd",
   "metadata": {},
   "outputs": [
    {
     "data": {
      "text/plain": [
       "3"
      ]
     },
     "execution_count": 76,
     "metadata": {},
     "output_type": "execute_result"
    }
   ],
   "source": [
    "y"
   ]
  },
  {
   "cell_type": "code",
   "execution_count": 77,
   "id": "bc9826fb",
   "metadata": {},
   "outputs": [
    {
     "name": "stdout",
     "output_type": "stream",
     "text": [
      "4.228 광년\n"
     ]
    }
   ],
   "source": [
    "speed = 300000.0 #빛의 속도\n",
    "distance = 40000000000000.0 #거리\n",
    "secs= distance/speed\n",
    "light_year = secs/(60.0*60.0*24.0*365.0)\n",
    "\n",
    "# print(\"light_year.2f\", \"광년\")\n",
    "\n",
    "print(\"%.3f\"%light_year, \"광년\")\n",
    "\n"
   ]
  },
  {
   "cell_type": "code",
   "execution_count": 78,
   "id": "127bae57",
   "metadata": {},
   "outputs": [
    {
     "name": "stdout",
     "output_type": "stream",
     "text": [
      "섭씨온도 37.778\n"
     ]
    }
   ],
   "source": [
    "#화씨 온도를 받아서 섭씨 온도로 변환\n",
    "\n",
    "ftemp = 100\n",
    "\n",
    "ctemp = (ftemp-32.0)*5.0/9.0\n",
    "print(\"섭씨온도\", \"%.3f\"%ctemp)\n",
    "\n"
   ]
  },
  {
   "cell_type": "markdown",
   "id": "4fde69b8",
   "metadata": {},
   "source": [
    "# 지수를 활용한 원리금 계산\n"
   ]
  },
  {
   "cell_type": "code",
   "execution_count": 79,
   "id": "681330dd",
   "metadata": {},
   "outputs": [
    {
     "name": "stdout",
     "output_type": "stream",
     "text": [
      "원리금 합계=  1628.895\n"
     ]
    }
   ],
   "source": [
    "a= 1000 #원금\n",
    "r = 0.05 #이자율\n",
    "n = 10 #기간\n",
    "\n",
    "result = a*(1+r)**n\n",
    "print(\"원리금 합계= \" , \"%.3f\"%result)"
   ]
  },
  {
   "cell_type": "code",
   "execution_count": 80,
   "id": "808ae5ff",
   "metadata": {},
   "outputs": [
    {
     "data": {
      "text/plain": [
       "3"
      ]
     },
     "execution_count": 80,
     "metadata": {},
     "output_type": "execute_result"
    }
   ],
   "source": [
    "x = 3.14\n",
    "y = int(x)\n",
    "y"
   ]
  },
  {
   "cell_type": "code",
   "execution_count": 81,
   "id": "1570815c",
   "metadata": {},
   "outputs": [
    {
     "data": {
      "text/plain": [
       "5.0"
      ]
     },
     "execution_count": 81,
     "metadata": {},
     "output_type": "execute_result"
    }
   ],
   "source": [
    "x = 5\n",
    "y = float(x)\n",
    "y"
   ]
  },
  {
   "cell_type": "code",
   "execution_count": 82,
   "id": "77bb7465",
   "metadata": {},
   "outputs": [
    {
     "data": {
      "text/plain": [
       "2"
      ]
     },
     "execution_count": 82,
     "metadata": {},
     "output_type": "execute_result"
    }
   ],
   "source": [
    "x=1.723264\n",
    "round(x)\n"
   ]
  },
  {
   "cell_type": "code",
   "execution_count": 83,
   "id": "ff204364",
   "metadata": {},
   "outputs": [
    {
     "data": {
      "text/plain": [
       "1.72"
      ]
     },
     "execution_count": 83,
     "metadata": {},
     "output_type": "execute_result"
    }
   ],
   "source": [
    "x=1.723264\n",
    "\n",
    "round(x,2)\n"
   ]
  },
  {
   "cell_type": "code",
   "execution_count": 84,
   "id": "2ce20162",
   "metadata": {},
   "outputs": [
    {
     "name": "stdout",
     "output_type": "stream",
     "text": [
      "섭씨온도 37.78\n"
     ]
    }
   ],
   "source": [
    "#화씨 온도를 받아서 섭씨 온도로 변환\n",
    "\n",
    "ftemp = 100\n",
    "\n",
    "ctemp = (ftemp-32.0)*5.0/9.0\n",
    "print(\"섭씨온도\", round(ctemp,2))"
   ]
  },
  {
   "cell_type": "code",
   "execution_count": 85,
   "id": "358e984e",
   "metadata": {},
   "outputs": [
    {
     "data": {
      "text/plain": [
       "'------------------------------'"
      ]
     },
     "execution_count": 85,
     "metadata": {},
     "output_type": "execute_result"
    }
   ],
   "source": [
    "\n",
    "lines = \"-\"*30\n",
    "lines"
   ]
  },
  {
   "cell_type": "code",
   "execution_count": 86,
   "id": "5a555cc2",
   "metadata": {},
   "outputs": [
    {
     "data": {
      "text/plain": [
       "'Hello World'"
      ]
     },
     "execution_count": 86,
     "metadata": {},
     "output_type": "execute_result"
    }
   ],
   "source": [
    "\"Hello \" + \"World\""
   ]
  },
  {
   "cell_type": "code",
   "execution_count": 87,
   "id": "8ec6579e",
   "metadata": {},
   "outputs": [
    {
     "data": {
      "text/plain": [
       "'뚜비 뚜바 뚜비 뚜바 뚜비 뚜바 뚜비 뚜바 뚜비 뚜바 '"
      ]
     },
     "execution_count": 87,
     "metadata": {},
     "output_type": "execute_result"
    }
   ],
   "source": [
    "song = \"뚜비 뚜바 \"\n",
    "song*5"
   ]
  },
  {
   "cell_type": "code",
   "execution_count": 88,
   "id": "cdcb29b1",
   "metadata": {},
   "outputs": [
    {
     "name": "stdout",
     "output_type": "stream",
     "text": [
      "30\n"
     ]
    }
   ],
   "source": [
    "print(10+20)"
   ]
  },
  {
   "cell_type": "code",
   "execution_count": 89,
   "id": "65d8dcb3",
   "metadata": {},
   "outputs": [
    {
     "name": "stdout",
     "output_type": "stream",
     "text": [
      "1020\n"
     ]
    }
   ],
   "source": [
    "print(\"10\"+\"20\")"
   ]
  },
  {
   "cell_type": "code",
   "execution_count": 90,
   "id": "3086303d",
   "metadata": {},
   "outputs": [
    {
     "data": {
      "text/plain": [
       "'action3'"
      ]
     },
     "execution_count": 90,
     "metadata": {},
     "output_type": "execute_result"
    }
   ],
   "source": [
    "movie = \"action\" + str(3)\n",
    "movie"
   ]
  },
  {
   "cell_type": "code",
   "execution_count": 91,
   "id": "27c666ef",
   "metadata": {},
   "outputs": [
    {
     "data": {
      "text/plain": [
       "'action3'"
      ]
     },
     "execution_count": 91,
     "metadata": {},
     "output_type": "execute_result"
    }
   ],
   "source": [
    "movie = \"action\" + \"3\"\n",
    "movie"
   ]
  },
  {
   "cell_type": "code",
   "execution_count": 92,
   "id": "cfcc29bb",
   "metadata": {},
   "outputs": [
    {
     "name": "stdout",
     "output_type": "stream",
     "text": [
      "경기장은 어디입니까\n",
      "이긴팀은 어디입니까\n",
      "우수 선수는 누구 입니까\n",
      "스코어는 몇대 몇 입니까\n",
      "\n",
      "=============================================\n",
      "오늘  에서 축구 경기가 열렸습니다. \n",
      " 팀은 승리를 했습니다. \n",
      "  이 맹활약 하였습니다. \n",
      "결국  이   로 이겼습니다. \n",
      "=============================================\n"
     ]
    }
   ],
   "source": [
    "# 로봇 기자 만들기\n",
    "stadium = input(\"경기장은 어디입니까\")\n",
    "winner = input(\"이긴팀은 어디입니까\")\n",
    "vip = input(\"우수 선수는 누구 입니까\")\n",
    "score = input(\"스코어는 몇대 몇 입니까\")\n",
    "\n",
    "# 위에 변수에 맞는 기사 작성\n",
    "print(\"\")\n",
    "print(\"=============================================\")\n",
    "print(\"오늘\", stadium, \"에서 축구 경기가 열렸습니다. \")\n",
    "print(winner, \"팀은 승리를 했습니다. \")\n",
    "print(vip,\" 이 맹활약 하였습니다. \")\n",
    "print(\"결국\", winner,\"이 \", score,\"로 이겼습니다. \")\n",
    "print(\"=============================================\")"
   ]
  },
  {
   "cell_type": "code",
   "execution_count": null,
   "id": "5605e3eb",
   "metadata": {},
   "outputs": [],
   "source": []
  },
  {
   "cell_type": "code",
   "execution_count": 95,
   "id": "31c4f158",
   "metadata": {},
   "outputs": [
    {
     "name": "stdout",
     "output_type": "stream",
     "text": [
      "처음 값:12\n",
      "두번째 값:12\n",
      "결과는 : 24\n"
     ]
    }
   ],
   "source": [
    "s1 = input(\"처음 값:\")\n",
    "x = int(s1)\n",
    "s2 = input(\"두번째 값:\")\n",
    "y = int(s2)\n",
    "sum = x + y\n",
    "print(\"결과는 :\",sum)"
   ]
  },
  {
   "cell_type": "markdown",
   "id": "0cb36586",
   "metadata": {},
   "source": [
    "# 평수 계산해보기 "
   ]
  },
  {
   "cell_type": "code",
   "execution_count": 96,
   "id": "0ce68017",
   "metadata": {},
   "outputs": [
    {
     "name": "stdout",
     "output_type": "stream",
     "text": [
      "면적(m2):12\n",
      "3.64 평입니다. \n"
     ]
    }
   ],
   "source": [
    "SQMETER_PER_P = 3.3\n",
    "\n",
    "area = float(input(\"면적(m2):\"))\n",
    "py = area/SQMETER_PER_P\n",
    "print(round(py,2), \"평입니다. \")\n"
   ]
  },
  {
   "cell_type": "markdown",
   "id": "52a4f388",
   "metadata": {},
   "source": [
    "# 다른것으로 해보기"
   ]
  },
  {
   "cell_type": "code",
   "execution_count": 97,
   "id": "978fdc11",
   "metadata": {},
   "outputs": [
    {
     "name": "stdout",
     "output_type": "stream",
     "text": [
      "면적(m2):12\n",
      "3.6363636363636367 평입니다. \n"
     ]
    }
   ],
   "source": [
    "SQMETER_PER_P = 3.3\n",
    "\n",
    "area = eval(input(\"면적(m2):\"))\n",
    "py = area/SQMETER_PER_P\n",
    "print(py, \"평입니다. \")"
   ]
  },
  {
   "cell_type": "code",
   "execution_count": null,
   "id": "05b395b4",
   "metadata": {},
   "outputs": [],
   "source": [
    "\n"
   ]
  },
  {
   "cell_type": "code",
   "execution_count": 98,
   "id": "a33efa76",
   "metadata": {},
   "outputs": [
    {
     "name": "stdout",
     "output_type": "stream",
     "text": [
      "데이터 입력:12\n"
     ]
    },
    {
     "data": {
      "text/plain": [
       "int"
      ]
     },
     "execution_count": 98,
     "metadata": {},
     "output_type": "execute_result"
    }
   ],
   "source": [
    "myData = eval(input(\"데이터 입력:\"))\n",
    "type(myData)"
   ]
  },
  {
   "cell_type": "markdown",
   "id": "7ab20b05",
   "metadata": {},
   "source": [
    "# eval() 이란"
   ]
  },
  {
   "cell_type": "markdown",
   "id": "2f622ed2",
   "metadata": {},
   "source": [
    "#### 입력된 숫자에 따라 변하는 것이다. "
   ]
  },
  {
   "cell_type": "markdown",
   "id": "65678900",
   "metadata": {},
   "source": [
    "# \"%.2f\"%py 형식으로 가능하다"
   ]
  },
  {
   "cell_type": "code",
   "execution_count": 99,
   "id": "1d80926e",
   "metadata": {},
   "outputs": [
    {
     "name": "stdout",
     "output_type": "stream",
     "text": [
      "면적(m2):12\n",
      "3.63636 평입니다. \n"
     ]
    }
   ],
   "source": [
    "SQMETER_PER_P = 3.3\n",
    "\n",
    "area = eval(input(\"면적(m2):\"))\n",
    "py = area/SQMETER_PER_P\n",
    "print(\"%.5f\"%py, \"평입니다. \")"
   ]
  },
  {
   "cell_type": "code",
   "execution_count": null,
   "id": "3c649df3",
   "metadata": {},
   "outputs": [],
   "source": []
  },
  {
   "cell_type": "markdown",
   "id": "665bfb14",
   "metadata": {},
   "source": [
    "# BMI 계산해 보기"
   ]
  },
  {
   "cell_type": "code",
   "execution_count": 105,
   "id": "c3ae3d02",
   "metadata": {},
   "outputs": [
    {
     "name": "stdout",
     "output_type": "stream",
     "text": [
      "몸무게를 kg 단위로 입력하시오: 100\n",
      "키를 미터 단위로 입력하시오: 1.7\n",
      "당신의 BMI= 34.6021\n"
     ]
    }
   ],
   "source": [
    "weight = float(input(\"몸무게를 kg 단위로 입력하시오: \"))\n",
    "height = float(input(\"키를 미터 단위로 입력하시오: \"))\n",
    "\n",
    "bmi = (weight / (height**2)) \n",
    "print(\"당신의 BMI=\",  round(bmi,4))\n"
   ]
  },
  {
   "cell_type": "markdown",
   "id": "f4760d58",
   "metadata": {},
   "source": [
    "# 구의 부피를 계산해 보자"
   ]
  },
  {
   "cell_type": "code",
   "execution_count": 108,
   "id": "a682eb26",
   "metadata": {},
   "outputs": [
    {
     "name": "stdout",
     "output_type": "stream",
     "text": [
      "반지름을 넣으세요(cm): 100\n",
      "구의 부피는 (m3): 4188789.33\n"
     ]
    }
   ],
   "source": [
    "r = float(input(\"반지름을 넣으세요(cm): \"))\n",
    "\n",
    "#구의 부피를 계산하는 공식\n",
    "volume = (4.0/3.0)*3.141592*r**3\n",
    "\n",
    "print(\"구의 부피는 (m3):\", \"%.2f\"%volume)"
   ]
  },
  {
   "cell_type": "code",
   "execution_count": null,
   "id": "f9cef54c",
   "metadata": {},
   "outputs": [],
   "source": []
  },
  {
   "cell_type": "code",
   "execution_count": 119,
   "id": "46cdd13e",
   "metadata": {},
   "outputs": [
    {
     "name": "stdout",
     "output_type": "stream",
     "text": [
      "물건값을 입력하시오: 5712\n",
      "===입력 금액===\n",
      "1000원 지폐개수: 10\n",
      "500원 동전개수: 0\n",
      "100원 동전개수: 0\n",
      "===거스름돈===\n",
      "4288 원\n",
      "===잔돈 갯수===\n",
      "500원 = 8   100원 = 2   10원 = 8   1원 = 8\n"
     ]
    }
   ],
   "source": [
    "\n",
    "itemPrice = int(input(\"물건값을 입력하시오: \"))\n",
    "print(\"===입력 금액===\")\n",
    "note = int(input(\"1000원 지폐개수: \"))\n",
    "coin500 = int(input(\"500원 동전개수: \"))\n",
    "coin100 = int(input(\"100원 동전개수: \"))\n",
    "\n",
    "change = note*1000 + coin500*500 + coin100*100 - itemPrice\n",
    "print(\"===거스름돈===\")\n",
    "print(change, \"원\")\n",
    "#거스름돈 500원의 갯수를 계산한다\n",
    "\n",
    "nCoin500 = change//500\n",
    "change = change%500\n",
    "\n",
    "#거스름돈 100원의 갯수를 계산한다\n",
    "\n",
    "nCoin100 = change//100\n",
    "change = change%100\n",
    "\n",
    "#거스름돈 500원의 갯수를 계산한다\n",
    "\n",
    "nCoin10 = change//10\n",
    "change = change%10\n",
    "\n",
    "#거스름돈 1원의 갯수를 계산한다\n",
    "nCoin1 = change\n",
    "\n",
    "\n",
    "print(\"===잔돈 갯수===\")\n",
    "\n",
    "print(\"500원 =\", nCoin500,\"  100원 =\", nCoin100,\"  10원 =\", nCoin10,\"  1원 =\", nCoin1)"
   ]
  },
  {
   "cell_type": "code",
   "execution_count": null,
   "id": "cd3aa2cd",
   "metadata": {},
   "outputs": [],
   "source": []
  },
  {
   "cell_type": "code",
   "execution_count": 122,
   "id": "0b9f82df",
   "metadata": {},
   "outputs": [
    {
     "name": "stdout",
     "output_type": "stream",
     "text": [
      "상품가격 :1000\n",
      "상품가격= 4000\n"
     ]
    }
   ],
   "source": [
    "price = int(input(\"상품가격 :\"))\n",
    "\n",
    "if price >20000:\n",
    "    shopping_const = 0 +price\n",
    "else:\n",
    "    shopping_const = 3000 + price\n",
    "    \n",
    "print(\"상품가격=\", shopping_const)"
   ]
  },
  {
   "cell_type": "code",
   "execution_count": null,
   "id": "22c2f6ab",
   "metadata": {},
   "outputs": [],
   "source": []
  },
  {
   "cell_type": "code",
   "execution_count": null,
   "id": "a725e7df",
   "metadata": {},
   "outputs": [],
   "source": []
  },
  {
   "cell_type": "code",
   "execution_count": null,
   "id": "93dbfb4f",
   "metadata": {},
   "outputs": [],
   "source": []
  },
  {
   "cell_type": "code",
   "execution_count": null,
   "id": "b73d44e7",
   "metadata": {},
   "outputs": [],
   "source": []
  },
  {
   "cell_type": "code",
   "execution_count": null,
   "id": "5dbb8a00",
   "metadata": {},
   "outputs": [],
   "source": []
  },
  {
   "cell_type": "code",
   "execution_count": null,
   "id": "94f3edbd",
   "metadata": {},
   "outputs": [],
   "source": []
  }
 ],
 "metadata": {
  "kernelspec": {
   "display_name": "Python 3",
   "language": "python",
   "name": "python3"
  },
  "language_info": {
   "codemirror_mode": {
    "name": "ipython",
    "version": 3
   },
   "file_extension": ".py",
   "mimetype": "text/x-python",
   "name": "python",
   "nbconvert_exporter": "python",
   "pygments_lexer": "ipython3",
   "version": "3.8.8"
  }
 },
 "nbformat": 4,
 "nbformat_minor": 5
}
