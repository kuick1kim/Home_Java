{
 "cells": [
  {
   "cell_type": "code",
   "execution_count": 3,
   "id": "eab9cd84",
   "metadata": {},
   "outputs": [
    {
     "name": "stdout",
     "output_type": "stream",
     "text": [
      "100\n"
     ]
    }
   ],
   "source": [
    "# 변수의 범위를 알아보자 \n",
    "\n",
    "def myfunc():\n",
    "    x= 100\n",
    "    print(x)\n",
    "\n",
    "myfunc()"
   ]
  },
  {
   "cell_type": "code",
   "execution_count": 5,
   "id": "27128fb1",
   "metadata": {},
   "outputs": [
    {
     "name": "stdout",
     "output_type": "stream",
     "text": [
      "123\n",
      "100\n"
     ]
    }
   ],
   "source": [
    "def myfunc():\n",
    "    x= 123\n",
    "    print(x)\n",
    "\n",
    "\n",
    "def main():\n",
    "    x=100\n",
    "    print(x)\n",
    "    \n",
    "    \n",
    "myfunc()\n",
    "main()"
   ]
  },
  {
   "cell_type": "code",
   "execution_count": 10,
   "id": "ce219caa",
   "metadata": {},
   "outputs": [
    {
     "name": "stdout",
     "output_type": "stream",
     "text": [
      "200\n",
      "100\n"
     ]
    }
   ],
   "source": [
    "# 함수 안에서 전역변수 변경하기\n",
    "\n",
    "gx = 100\n",
    "\n",
    "def myfunc():\n",
    "    gx =200\n",
    "    print(gx)\n",
    "    \n",
    "myfunc()\n",
    "print(gx)\n"
   ]
  },
  {
   "cell_type": "code",
   "execution_count": null,
   "id": "9a891891",
   "metadata": {},
   "outputs": [],
   "source": [
    "#마크 다운으로 f(x)= x제곱 +1"
   ]
  },
  {
   "cell_type": "markdown",
   "id": "7c76e2b7",
   "metadata": {},
   "source": [
    "$f(x)= x^2 + 1$\n"
   ]
  },
  {
   "cell_type": "code",
   "execution_count": 20,
   "id": "9ffe8e2d",
   "metadata": {},
   "outputs": [
    {
     "ename": "Terminator",
     "evalue": "",
     "output_type": "error",
     "traceback": [
      "\u001b[1;31m---------------------------------------------------------------------------\u001b[0m",
      "\u001b[1;31mTerminator\u001b[0m                                Traceback (most recent call last)",
      "\u001b[1;32m<ipython-input-20-e207cc228a11>\u001b[0m in \u001b[0;36m<module>\u001b[1;34m\u001b[0m\n\u001b[0;32m     19\u001b[0m \u001b[1;33m\u001b[0m\u001b[0m\n\u001b[0;32m     20\u001b[0m \u001b[0mturtle\u001b[0m\u001b[1;33m.\u001b[0m\u001b[0mmainloop\u001b[0m\u001b[1;33m(\u001b[0m\u001b[1;33m)\u001b[0m\u001b[1;33m\u001b[0m\u001b[1;33m\u001b[0m\u001b[0m\n\u001b[1;32m---> 21\u001b[1;33m \u001b[0mturtle\u001b[0m\u001b[1;33m.\u001b[0m\u001b[0mbye\u001b[0m\u001b[1;33m(\u001b[0m\u001b[1;33m)\u001b[0m\u001b[1;33m\u001b[0m\u001b[1;33m\u001b[0m\u001b[0m\n\u001b[0m",
      "\u001b[1;32m~\\anaconda31\\lib\\turtle.py\u001b[0m in \u001b[0;36mbye\u001b[1;34m()\u001b[0m\n",
      "\u001b[1;31mTerminator\u001b[0m: "
     ]
    }
   ],
   "source": [
    "##\n",
    "#\t이 프로그램은 터틀 그래픽으로 함수를 그린다. \n",
    "#\n",
    "import turtle \n",
    "t = turtle.Turtle()\n",
    "t.shape(\"turtle\")\n",
    "t.speed(0)\n",
    "\n",
    "def f(x):\n",
    "    return x**2+1\n",
    "\n",
    "t.goto(200, 0)\n",
    "t.goto(0, 0)\n",
    "t.goto(0, 200)\n",
    "t.goto(0, 0)\n",
    "\n",
    "for x in range(150):\n",
    "\tt.goto(x, int(0.01*f(x)))\n",
    "\n",
    "turtle.mainloop()\n",
    "turtle.bye()\t\n"
   ]
  },
  {
   "cell_type": "markdown",
   "id": "3697cb06",
   "metadata": {},
   "source": [
    "#파이썬 자료 구조"
   ]
  },
  {
   "cell_type": "code",
   "execution_count": null,
   "id": "941208d0",
   "metadata": {},
   "outputs": [],
   "source": [
    "##파이썬 자료 구조"
   ]
  },
  {
   "cell_type": "markdown",
   "id": "e0003044",
   "metadata": {},
   "source": [
    "\n",
    "# 파이썬 자료"
   ]
  },
  {
   "cell_type": "code",
   "execution_count": 41,
   "id": "672895f0",
   "metadata": {},
   "outputs": [
    {
     "name": "stdout",
     "output_type": "stream",
     "text": [
      "28,31,33,35,27,26,25,"
     ]
    }
   ],
   "source": [
    "\n",
    "temps =[28,31,33,35,27,26,25]\n",
    "\n",
    "for i in range(len(temps)):\n",
    "    print(temps[i], end=\",\")"
   ]
  },
  {
   "cell_type": "code",
   "execution_count": 47,
   "id": "f92949df",
   "metadata": {},
   "outputs": [
    {
     "name": "stdout",
     "output_type": "stream",
     "text": [
      "what is your name?     It is kim\n",
      "what is your quest?     It is 파이썬\n",
      "what is your color?     It is blue\n"
     ]
    }
   ],
   "source": [
    "# 동시에 2개의 리스트 해보기\n",
    "\n",
    "questions = [\"name\",\"quest\",\"color\"]\n",
    "answers=[\"kim\",\"파이썬\",\"blue\"]\n",
    "\n",
    "for q,a in zip(questions,answers):\n",
    "    print (f\"what is your {q}?     It is {a}\")"
   ]
  },
  {
   "cell_type": "code",
   "execution_count": 66,
   "id": "cf865f88",
   "metadata": {},
   "outputs": [
    {
     "name": "stdout",
     "output_type": "stream",
     "text": [
      "['아이언맨', '토르']\n"
     ]
    }
   ],
   "source": [
    "# 리스트 내용 입력\n",
    "\n",
    "heroes=[]\n",
    "heroes.append(\"아이언맨\")\n",
    "heroes.append(\"토르\")\n",
    "print(heroes)\n",
    "\n"
   ]
  },
  {
   "cell_type": "code",
   "execution_count": 67,
   "id": "26c2460b",
   "metadata": {},
   "outputs": [],
   "source": [
    "#리스트 중간에 삽입하는 방법"
   ]
  },
  {
   "cell_type": "code",
   "execution_count": 74,
   "id": "405e1b76",
   "metadata": {},
   "outputs": [],
   "source": [
    "heroes.insert(2,\"헐크\")\n",
    "# 삽입할 위치를 변경할 수 있다. "
   ]
  },
  {
   "cell_type": "code",
   "execution_count": 75,
   "id": "92d67e07",
   "metadata": {},
   "outputs": [
    {
     "name": "stdout",
     "output_type": "stream",
     "text": [
      "['헐크', '아이언맨', '헐크', '토르', '헐크']\n"
     ]
    }
   ],
   "source": [
    "print(heroes)"
   ]
  },
  {
   "cell_type": "markdown",
   "id": "03dae287",
   "metadata": {},
   "source": [
    "# 리스트를 탐색하는 방법"
   ]
  },
  {
   "cell_type": "code",
   "execution_count": 83,
   "id": "4dbaa414",
   "metadata": {},
   "outputs": [
    {
     "name": "stdout",
     "output_type": "stream",
     "text": [
      "0\n"
     ]
    }
   ],
   "source": [
    "# 리스트를 탐색하는 방법\n",
    "# 위치 찾는 방법\n",
    "n = heroes.index(\"아이언맨\")\n",
    "print(n)"
   ]
  },
  {
   "cell_type": "code",
   "execution_count": 81,
   "id": "b2c756ff",
   "metadata": {},
   "outputs": [],
   "source": [
    "# 제거하는 방법\n",
    "heroes.remove(\"헐크\")"
   ]
  },
  {
   "cell_type": "code",
   "execution_count": 82,
   "id": "679c8f2a",
   "metadata": {},
   "outputs": [
    {
     "name": "stdout",
     "output_type": "stream",
     "text": [
      "['아이언맨', '토르', '헐크']\n"
     ]
    }
   ],
   "source": [
    "print(heroes)"
   ]
  },
  {
   "cell_type": "code",
   "execution_count": 119,
   "id": "a8dbd05a",
   "metadata": {},
   "outputs": [
    {
     "name": "stdout",
     "output_type": "stream",
     "text": [
      "1\n",
      "10\n",
      "4\n",
      "[1, 2, 3, 4, 5, 6, 7, 8, 9, 10]\n"
     ]
    }
   ],
   "source": [
    "# 파이썬은 모든 객체 클래스 이다. \n",
    "\n",
    "values=[1,2,3,4,5,6,7,8,9,10]\n",
    "\n",
    "# min(values)\n",
    "# max(values)\n",
    "# mean(values)\n",
    "print(min(values))\n",
    "print(max(values))\n",
    "\n",
    "print(values[3])\n",
    "print(values)\n"
   ]
  },
  {
   "cell_type": "code",
   "execution_count": 121,
   "id": "cce98bad",
   "metadata": {},
   "outputs": [
    {
     "name": "stdout",
     "output_type": "stream",
     "text": [
      "과일을 입력:배\n",
      "과일을 입력:사과\n",
      "과일을 입력:수박\n",
      "수박\n",
      "사과\n",
      "배\n"
     ]
    }
   ],
   "source": [
    "# 스택 구현하기 ---LIFO ---PUSH(삽입)----POP(꺼내기)\n",
    "stack=[]\n",
    "\n",
    "for i in range(3):\n",
    "    f = input(\"과일을 입력:\")\n",
    "    stack.append(f)\n",
    "    \n",
    "for j in range(3):\n",
    "    print(stack.pop())"
   ]
  },
  {
   "cell_type": "markdown",
   "id": "61a0e786",
   "metadata": {},
   "source": [
    "# 리스트를 병합하는것 "
   ]
  },
  {
   "cell_type": "code",
   "execution_count": 124,
   "id": "bac71b19",
   "metadata": {},
   "outputs": [
    {
     "name": "stdout",
     "output_type": "stream",
     "text": [
      "['one', 'two', 'tree', 'for']\n",
      "['tree', 'for', 'one', 'two']\n"
     ]
    }
   ],
   "source": [
    "# 리스트를 병합하는것 \n",
    "he=[\"one\",\"two\"]\n",
    "she=[\"tree\",\"for\"]\n",
    "man=he + she\n",
    "woman= she + he\n",
    "print(man)\n",
    "print(woman)"
   ]
  },
  {
   "cell_type": "code",
   "execution_count": 125,
   "id": "51f48734",
   "metadata": {},
   "outputs": [
    {
     "name": "stdout",
     "output_type": "stream",
     "text": [
      "False\n",
      "True\n"
     ]
    }
   ],
   "source": [
    "# 리스트를 비교하는것\n",
    "he=[\"one\",\"two\"]\n",
    "she=[\"tree\",\"for\"]\n",
    "print(he== she)\n",
    "\n",
    "he=[\"one\",\"two\"]\n",
    "she=[\"one\",\"two\"]\n",
    "print(he==she)"
   ]
  },
  {
   "cell_type": "code",
   "execution_count": 133,
   "id": "8dc7e60b",
   "metadata": {},
   "outputs": [
    {
     "name": "stdout",
     "output_type": "stream",
     "text": [
      "[3, 7, 2, 1, 5]\n"
     ]
    },
    {
     "data": {
      "text/plain": [
       "[1, 2, 3, 5, 7]"
      ]
     },
     "execution_count": 133,
     "metadata": {},
     "output_type": "execute_result"
    }
   ],
   "source": [
    "#리스트를 복사하는것\n",
    "\n",
    "values=[3,7,2,1,5]\n",
    "sort_value= values[:]\n",
    "sort_value.sort()\n",
    "\n",
    "print(values)\n",
    "sort_value\n",
    "\n"
   ]
  },
  {
   "cell_type": "code",
   "execution_count": 140,
   "id": "329fc8a6",
   "metadata": {},
   "outputs": [
    {
     "name": "stdout",
     "output_type": "stream",
     "text": [
      "M\n",
      "Pyth\n",
      "Month\n"
     ]
    }
   ],
   "source": [
    "#슬라이싱 해보기 문자열 슬라이싱\n",
    "s = \"Month Python\"\n",
    "print(s[0])\n",
    "print(s[6:10]) # 앞에서 7번부터\n",
    "print(s[-17:-7]) # 맨뒤에서 12번째 부터"
   ]
  },
  {
   "cell_type": "code",
   "execution_count": 146,
   "id": "401672be",
   "metadata": {},
   "outputs": [
    {
     "name": "stdout",
     "output_type": "stream",
     "text": [
      "x= 42 id= 140720821316688\n",
      "y= 42 id= 140720821316688\n",
      "x= 149 id= 140720821320112\n",
      "y= 12 id= 140720821315728\n"
     ]
    }
   ],
   "source": [
    "def func():\n",
    "    x=42\n",
    "    print(\"x=\", x, \"id=\", id(x))\n",
    "    y= x\n",
    "    print(\"y=\", y, \"id=\", id(y))\n",
    "\n",
    "func()\n",
    "\n",
    "y=12\n",
    "\n",
    "print(\"x=\", x, \"id=\", id(x))\n",
    "print(\"y=\", y, \"id=\", id(y))"
   ]
  },
  {
   "cell_type": "code",
   "execution_count": 148,
   "id": "0c64c1c6",
   "metadata": {},
   "outputs": [
    {
     "name": "stdout",
     "output_type": "stream",
     "text": [
      "[[1, 2, 3, 4, 5], [6, 7, 8, 9, 10], [11, 12, 13, 14, 15]]\n"
     ]
    }
   ],
   "source": [
    "# 2차원 리스트 이다. \n",
    "s = [[1,2,3,4,5],[6,7,8,9,10],[11,12,13,14,15]]\n",
    "\n",
    "print(s)"
   ]
  },
  {
   "cell_type": "code",
   "execution_count": 150,
   "id": "2675aae7",
   "metadata": {},
   "outputs": [
    {
     "name": "stdout",
     "output_type": "stream",
     "text": [
      "1,2,3,4,5,\n",
      "6,7,8,9,10,\n",
      "11,12,13,14,15,\n"
     ]
    }
   ],
   "source": [
    "# 2차원 출력하는 방법 \n",
    "s = [[1,2,3,4,5],[6,7,8,9,10],[11,12,13,14,15]]\n",
    "\n",
    "rows= len(s)\n",
    "cols=len(s[0])\n",
    "\n",
    "for r in range(rows):\n",
    "    for c in range(cols):\n",
    "        print(s[r][c], end=',')\n",
    "    print()\n",
    "\n"
   ]
  },
  {
   "cell_type": "code",
   "execution_count": 159,
   "id": "51178473",
   "metadata": {},
   "outputs": [
    {
     "name": "stdout",
     "output_type": "stream",
     "text": [
      "40\n"
     ]
    }
   ],
   "source": [
    "# 2차원 출력하는 방법 \n",
    "# 더하기를 출력하는 방법\n",
    "s = [[1,2,3,4,5],[6,7,8,9,10],[11,12,13,14,15]]\n",
    "\n",
    "rows= len(s)\n",
    "cols=len(s[0])\n",
    "\n",
    "i=1\n",
    "total=0\n",
    "for j in range(cols):\n",
    "    total = total + s[i][j]\n",
    "print(total)\n"
   ]
  },
  {
   "cell_type": "markdown",
   "id": "14fe09b6",
   "metadata": {},
   "source": [
    "# 튜플 딕셔너리 해보기"
   ]
  },
  {
   "cell_type": "code",
   "execution_count": null,
   "id": "6ecb5e30",
   "metadata": {},
   "outputs": [],
   "source": [
    "# 튜플 딕셔너리 해보기\n",
    "# 튜플은 리스드와 다르게 수정이 불가능하다\n",
    "# 요소가 하나뿐인 튜플을"
   ]
  },
  {
   "cell_type": "code",
   "execution_count": 166,
   "id": "bd29115a",
   "metadata": {},
   "outputs": [
    {
     "name": "stdout",
     "output_type": "stream",
     "text": [
      "('apple',)\n",
      "apple\n",
      "banana\n"
     ]
    }
   ],
   "source": [
    "s_t=(\"apple\",)\n",
    "print(s_t)\n",
    "\n",
    "s_t=(\"apple\")\n",
    "print(s_t)\n",
    "\n",
    "fruits=[\"apple\",\"banana\",\"grape\"]\n",
    "print(fruits[1])"
   ]
  },
  {
   "cell_type": "code",
   "execution_count": 167,
   "id": "59e82cb4",
   "metadata": {},
   "outputs": [
    {
     "name": "stdout",
     "output_type": "stream",
     "text": [
      "0 apple\n",
      "1 banana\n",
      "2 grape\n"
     ]
    }
   ],
   "source": [
    "fruits=[\"apple\",\"banana\",\"grape\"]\n",
    "# enumerate 는 인덱스 값을 요소값에 대입함\n",
    "for  index, value in enumerate(fruits): \n",
    "        print(index, value)"
   ]
  },
  {
   "cell_type": "code",
   "execution_count": 169,
   "id": "4ac330b9",
   "metadata": {},
   "outputs": [
    {
     "name": "stdout",
     "output_type": "stream",
     "text": [
      "0 apple\n",
      "1 banana\n",
      "2 grape\n"
     ]
    }
   ],
   "source": [
    "fruits=[\"apple\",\"banana\",\"grape\"]\n",
    "# enumerate 는 인덱스 값을 요소값에 대입함\n",
    "for  index, value in enumerate(fruits): \n",
    "        print(index, value)"
   ]
  },
  {
   "cell_type": "code",
   "execution_count": null,
   "id": "cbbda20d",
   "metadata": {},
   "outputs": [],
   "source": [
    "# 튜플은 언제쓰고 리스트는 언제 쓰는것이냐\n",
    "#                     리스트            튜플\n",
    "    \n",
    "#               항목을 []                항목을 ()\n",
    "#                변경가능                변경불가능\n",
    "#              메소드 46개               메소드 33개\n",
    "#      딕셔너리 키사용이 안됨          딕셔너리 키사용이 가능함"
   ]
  },
  {
   "cell_type": "code",
   "execution_count": 170,
   "id": "d6840001",
   "metadata": {},
   "outputs": [
    {
     "name": "stdout",
     "output_type": "stream",
     "text": [
      "{1, 2, 3}\n"
     ]
    }
   ],
   "source": [
    "# 리스트와 세트의 비교\n",
    "# 세트의 요소는 특정 순서로 저장되지 않으면 위치별로 엑세스 할수 없음\n",
    "# 세트는 특성 순서를 유지할 필요가 없으므로 리스트 보다 연산이 빠르다\n",
    "# 세트는 중복항이 없어야 한다. 중복되면 자동으로 제거됨\n",
    "\n",
    "numbers = set([1,2,3,1,2,3])\n",
    "print(numbers)\n",
    "\n",
    "# 중복을 짤라버린다. "
   ]
  },
  {
   "cell_type": "code",
   "execution_count": 173,
   "id": "0c7b1bc1",
   "metadata": {},
   "outputs": [
    {
     "ename": "AttributeError",
     "evalue": "'set' object attribute 'update' is read-only",
     "output_type": "error",
     "traceback": [
      "\u001b[1;31m---------------------------------------------------------------------------\u001b[0m",
      "\u001b[1;31mAttributeError\u001b[0m                            Traceback (most recent call last)",
      "\u001b[1;32m<ipython-input-173-4c9e4da78228>\u001b[0m in \u001b[0;36m<module>\u001b[1;34m\u001b[0m\n\u001b[0;32m      1\u001b[0m \u001b[0mfruits\u001b[0m \u001b[1;33m=\u001b[0m \u001b[1;33m{\u001b[0m\u001b[1;34m\"apple\"\u001b[0m\u001b[1;33m,\u001b[0m\u001b[1;34m\"banana\"\u001b[0m\u001b[1;33m,\u001b[0m\u001b[1;34m\"grape\"\u001b[0m\u001b[1;33m}\u001b[0m\u001b[1;33m\u001b[0m\u001b[1;33m\u001b[0m\u001b[0m\n\u001b[1;32m----> 2\u001b[1;33m \u001b[0mfruits\u001b[0m\u001b[1;33m.\u001b[0m\u001b[0mupdate\u001b[0m \u001b[1;33m=\u001b[0m \u001b[1;33m(\u001b[0m\u001b[1;33m[\u001b[0m\u001b[1;34m\"orange\"\u001b[0m\u001b[1;33m,\u001b[0m\u001b[1;34m\"mango\"\u001b[0m\u001b[1;33m,\u001b[0m\u001b[1;34m\"kiwi\"\u001b[0m\u001b[1;33m]\u001b[0m\u001b[1;33m)\u001b[0m\u001b[1;33m\u001b[0m\u001b[1;33m\u001b[0m\u001b[0m\n\u001b[0m\u001b[0;32m      3\u001b[0m \u001b[0mprint\u001b[0m\u001b[1;33m(\u001b[0m\u001b[0mfruits\u001b[0m\u001b[1;33m)\u001b[0m\u001b[1;33m\u001b[0m\u001b[1;33m\u001b[0m\u001b[0m\n\u001b[0;32m      4\u001b[0m \u001b[1;33m\u001b[0m\u001b[0m\n\u001b[0;32m      5\u001b[0m \u001b[1;31m# fruits.remove(\"mango\")\u001b[0m\u001b[1;33m\u001b[0m\u001b[1;33m\u001b[0m\u001b[1;33m\u001b[0m\u001b[0m\n",
      "\u001b[1;31mAttributeError\u001b[0m: 'set' object attribute 'update' is read-only"
     ]
    }
   ],
   "source": [
    "\n",
    "fruits = {\"apple\",\"banana\",\"grape\"}\n",
    "fruits.update = ([\"orange\",\"mango\",\"kiwi\"])\n",
    "print(fruits)\n",
    "\n",
    "# fruits.remove(\"mango\")"
   ]
  },
  {
   "cell_type": "code",
   "execution_count": 175,
   "id": "7234dfd5",
   "metadata": {},
   "outputs": [
    {
     "name": "stdout",
     "output_type": "stream",
     "text": [
      "{'mango', 'grape', 'orange', 'banana', 'apple', 'kiwi'}\n"
     ]
    }
   ],
   "source": [
    "# 생성 / 추가 \n",
    "\n",
    "fruits = {\"apple\",\"banana\",\"grape\"}\n",
    "fruits.update([\"orange\",\"mango\",\"kiwi\"])\n",
    "print(fruits)\n",
    "\n"
   ]
  },
  {
   "cell_type": "code",
   "execution_count": 176,
   "id": "1c2a4666",
   "metadata": {},
   "outputs": [
    {
     "name": "stdout",
     "output_type": "stream",
     "text": [
      "{'grape', 'orange', 'banana', 'apple', 'kiwi'}\n"
     ]
    }
   ],
   "source": [
    "fruits.remove(\"mango\")\n",
    "print(fruits)"
   ]
  },
  {
   "cell_type": "code",
   "execution_count": 177,
   "id": "483b0136",
   "metadata": {},
   "outputs": [
    {
     "name": "stdout",
     "output_type": "stream",
     "text": [
      "set()\n"
     ]
    }
   ],
   "source": [
    "fruits.clear()\n",
    "print(fruits)"
   ]
  },
  {
   "cell_type": "code",
   "execution_count": null,
   "id": "8d6a873d",
   "metadata": {},
   "outputs": [],
   "source": []
  },
  {
   "cell_type": "code",
   "execution_count": 178,
   "id": "942fde8e",
   "metadata": {},
   "outputs": [
    {
     "name": "stdout",
     "output_type": "stream",
     "text": [
      "{2, 4}\n"
     ]
    }
   ],
   "source": [
    "alist ={1,2,3,4,5,1,2}\n",
    "result = {x for x in alist if x%2==0}\n",
    "\n",
    "print(result)"
   ]
  },
  {
   "cell_type": "code",
   "execution_count": null,
   "id": "e6f595ef",
   "metadata": {},
   "outputs": [],
   "source": [
    "\n",
    "\n"
   ]
  },
  {
   "cell_type": "code",
   "execution_count": null,
   "id": "b6287fa2",
   "metadata": {},
   "outputs": [],
   "source": []
  },
  {
   "cell_type": "markdown",
   "id": "c3aee4e6",
   "metadata": {},
   "source": [
    "# 딕셔너리 해보기"
   ]
  },
  {
   "cell_type": "code",
   "execution_count": 180,
   "id": "20a848b3",
   "metadata": {},
   "outputs": [
    {
     "name": "stdout",
     "output_type": "stream",
     "text": [
      "korea : seoul\n",
      "usa : washington\n",
      "uk : London\n"
     ]
    }
   ],
   "source": [
    "# 딕셔너리 해보기  키와 값으로 저장되는 예시\n",
    "capitals = {\"korea\":\"seoul\", \"usa\":\"washington\", \"uk\":\"London\"}\n",
    "for key, value in capitals.items():\n",
    "    print(key, \":\",value)"
   ]
  },
  {
   "cell_type": "code",
   "execution_count": 181,
   "id": "d4182131",
   "metadata": {},
   "outputs": [
    {
     "name": "stdout",
     "output_type": "stream",
     "text": [
      "{'apple': 5, 'orange': 6, 'banana': 6}\n"
     ]
    }
   ],
   "source": [
    "\n",
    "fruits = [\"apple\", \"orange\",\"banana\"]\n",
    "dic = {f:len(f) for f in fruits}\n",
    "print(dic)"
   ]
  },
  {
   "cell_type": "code",
   "execution_count": null,
   "id": "8671c17f",
   "metadata": {},
   "outputs": [],
   "source": []
  },
  {
   "cell_type": "code",
   "execution_count": null,
   "id": "0946a466",
   "metadata": {},
   "outputs": [],
   "source": []
  },
  {
   "cell_type": "code",
   "execution_count": 183,
   "id": "b7c07b35",
   "metadata": {},
   "outputs": [
    {
     "name": "stdout",
     "output_type": "stream",
     "text": [
      "Create 의 등장횟수= 1\n",
      "because 의 등장횟수= 1\n",
      "become 의 등장횟수= 1\n",
      "believe 의 등장횟수= 1\n",
      "for 의 등장횟수= 1\n",
      "grandest 의 등장횟수= 1\n",
      "highest, 의 등장횟수= 1\n",
      "life, 의 등장횟수= 1\n",
      "possible 의 등장횟수= 1\n",
      "the 의 등장횟수= 1\n",
      "vision 의 등장횟수= 1\n",
      "what 의 등장횟수= 1\n",
      "you 의 등장횟수= 2\n",
      "your 의 등장횟수= 1\n"
     ]
    }
   ],
   "source": [
    "text_data =\"Create the highest, grandest vision possible for your life, because you become what you believe\"\n",
    "\n",
    "word_dic = {}\t\t\t\t# 주머니 생성 단어들과 출현 횟수를 저장하는 딕셔너리를 생성\n",
    "for w in text_data.split():\t\t# 텍스트를 단어들로 분리하여 반복한다. \n",
    "     if w in word_dic:\t\t\t# 단어가 이미 딕셔너리에 있으면\n",
    "         word_dic[w]  += 1  \t\t# 출현 횟수를 1 증가한다. \n",
    "     else:\t\t\t\t# 처음 나온 단어이면 1로 초기화한다. \n",
    "         word_dic[w]   = 1  \n",
    "\n",
    "for w, count in sorted(word_dic.items()):\t# 키와 값을 정렬하여 반복 처리한다. \n",
    "     print(w, \"의 등장횟수=\", count)"
   ]
  },
  {
   "cell_type": "code",
   "execution_count": null,
   "id": "b1dd284c",
   "metadata": {},
   "outputs": [],
   "source": []
  },
  {
   "cell_type": "code",
   "execution_count": 188,
   "id": "81571d43",
   "metadata": {},
   "outputs": [
    {
     "name": "stdout",
     "output_type": "stream",
     "text": [
      "이메일 주소 입력하세요:kuick1@gmail.com\n",
      "kuick1@gmail.com\n",
      "\n",
      "아이디 :  kuick1\n",
      "도메인 :  gmail.com\n"
     ]
    }
   ],
   "source": [
    "# 이메일 주소 분석하기\n",
    "address = input(\"이메일 주소 입력하세요:\")\n",
    "(id, domain) = address.split(\"@\")\n",
    "\n",
    "print(address)\n",
    "print()\n",
    "print(\"아이디 : \" , id)\n",
    "print(\"도메인 : \" , domain)\n"
   ]
  },
  {
   "cell_type": "code",
   "execution_count": null,
   "id": "33f6037e",
   "metadata": {},
   "outputs": [],
   "source": []
  },
  {
   "cell_type": "code",
   "execution_count": 192,
   "id": "4cee5f5f",
   "metadata": {},
   "outputs": [
    {
     "name": "stdout",
     "output_type": "stream",
     "text": [
      "문자열 입력my number is 9999my number is 9999\n",
      "{'alphas': 20, 'digits': 8, 'spaces': 6}\n"
     ]
    }
   ],
   "source": [
    "# 알파벳 문자의 갯수\n",
    "sentence = input(\"문자열 입력\")\n",
    "\n",
    "table ={\"alphas\": 0, \"digits\":0 , \"spaces\":0}\n",
    "\n",
    "for i in sentence:\n",
    "    if i.isalpha():\n",
    "        table[\"alphas\"]+=1\n",
    "    if i.isdigit():\n",
    "        table[\"digits\"]+=1\n",
    "    if i.isspace():\n",
    "        table[\"spaces\"]+=1\n",
    "print(table)        "
   ]
  },
  {
   "cell_type": "code",
   "execution_count": null,
   "id": "ebcf996c",
   "metadata": {},
   "outputs": [],
   "source": []
  },
  {
   "cell_type": "code",
   "execution_count": 193,
   "id": "97837b1f",
   "metadata": {},
   "outputs": [
    {
     "name": "stdout",
     "output_type": "stream",
     "text": [
      "6\n"
     ]
    }
   ],
   "source": [
    "# 트위터 메세지에서 단어의 개수\n",
    "\n",
    "t=\"python is very easy and powerful!\"\n",
    "\n",
    "length = len(t.split(\" \"))\n",
    "print(length)"
   ]
  },
  {
   "cell_type": "code",
   "execution_count": null,
   "id": "8ca0319e",
   "metadata": {},
   "outputs": [],
   "source": []
  },
  {
   "cell_type": "code",
   "execution_count": 202,
   "id": "d33ba2a7",
   "metadata": {},
   "outputs": [
    {
     "name": "stdout",
     "output_type": "stream",
     "text": [
      "0786\n"
     ]
    }
   ],
   "source": [
    "# otp일회용 암호\n",
    "\n",
    "import random\n",
    "\n",
    "\n",
    "s = \"0123456789\"\n",
    "\n",
    "passlen = 4\n",
    "\n",
    "p =  \"\".join(random.sample(s, passlen ))\n",
    "print(p)"
   ]
  },
  {
   "cell_type": "code",
   "execution_count": null,
   "id": "1a048555",
   "metadata": {},
   "outputs": [],
   "source": []
  },
  {
   "cell_type": "code",
   "execution_count": null,
   "id": "c69e7fc5",
   "metadata": {},
   "outputs": [],
   "source": []
  },
  {
   "cell_type": "code",
   "execution_count": null,
   "id": "36a320de",
   "metadata": {},
   "outputs": [],
   "source": []
  },
  {
   "cell_type": "code",
   "execution_count": 205,
   "id": "d9be7bcb",
   "metadata": {},
   "outputs": [
    {
     "name": "stdout",
     "output_type": "stream",
     "text": [
      "카운터 값 :  1\n"
     ]
    }
   ],
   "source": [
    "# 파이썬 클래스 해보기\n",
    "\n",
    "class Counter:\n",
    "    def __init__(self):\n",
    "        self.count = 0 #변수를 property 속성이라고 함\n",
    "    def increment(self): #<---요거는 함수다 method 방법\n",
    "        self.count += 1 \n",
    "        \n",
    "a = Counter()\n",
    "a.increment()\n",
    "print(\"카운터 값 : \",  a.count)"
   ]
  },
  {
   "cell_type": "code",
   "execution_count": null,
   "id": "080ae573",
   "metadata": {},
   "outputs": [],
   "source": []
  },
  {
   "cell_type": "code",
   "execution_count": 215,
   "id": "11861343",
   "metadata": {},
   "outputs": [
    {
     "name": "stdout",
     "output_type": "stream",
     "text": [
      "원의 면적: 314.16\n",
      "원의 둘레: 62.83185307179586\n"
     ]
    }
   ],
   "source": [
    "import math\n",
    "# 원을 클래스로 모델링\n",
    "class Circle:\n",
    "    def __init__(self, radius = 0): #초기화 때문에 생성자 만듦\n",
    "        self.radius = radius\n",
    "        \n",
    "    def getArea(self):\n",
    "        return math.pi *self.radius *self.radius\n",
    "    \n",
    "    def getPerimeter(self):\n",
    "        return 2 * math.pi * self.radius\n",
    "    \n",
    "    \n",
    "c= Circle(10)\n",
    "print(\"원의 면적:\" , round(c.getArea(),2))\n",
    "print(\"원의 둘레:\" , c.getPerimeter())"
   ]
  },
  {
   "cell_type": "code",
   "execution_count": null,
   "id": "de47564f",
   "metadata": {},
   "outputs": [],
   "source": []
  }
 ],
 "metadata": {
  "kernelspec": {
   "display_name": "Python 3",
   "language": "python",
   "name": "python3"
  },
  "language_info": {
   "codemirror_mode": {
    "name": "ipython",
    "version": 3
   },
   "file_extension": ".py",
   "mimetype": "text/x-python",
   "name": "python",
   "nbconvert_exporter": "python",
   "pygments_lexer": "ipython3",
   "version": "3.8.8"
  }
 },
 "nbformat": 4,
 "nbformat_minor": 5
}
