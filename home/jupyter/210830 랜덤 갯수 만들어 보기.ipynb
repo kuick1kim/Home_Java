{
 "cells": [
  {
   "cell_type": "code",
   "execution_count": 1,
   "id": "28e5c799",
   "metadata": {},
   "outputs": [],
   "source": [
    "import numpy as np\n",
    "import matplotlib\n",
    "import matplotlib.pyplot as plt"
   ]
  },
  {
   "cell_type": "code",
   "execution_count": 4,
   "id": "20b13ddc",
   "metadata": {},
   "outputs": [
    {
     "data": {
      "image/png": "[encoded data removed]",
      "text/plain": [
       "<Figure size 432x288 with 1 Axes>"
      ]
     },
     "metadata": {
      "needs_background": "light"
     },
     "output_type": "display_data"
    }
   ],
   "source": [
    "data = np.random.random((2,30))\n",
    "plt.title(\"랜덤 Random\")\n",
    "plt.scatter(data[0,:], data[1,:])\n",
    "plt.show()\n"
   ]
  },
  {
   "cell_type": "code",
   "execution_count": null,
   "id": "80d9bc20",
   "metadata": {},
   "outputs": [],
   "source": []
  },
  {
   "cell_type": "markdown",
   "id": "9309790e",
   "metadata": {},
   "source": [
    "#자신의 이름을 출력\n"
   ]
  },
  {
   "cell_type": "code",
   "execution_count": null,
   "id": "8b2dd740",
   "metadata": {},
   "outputs": [],
   "source": [
    "print(\"2+3=\", 2+3)\n",
    "\n",
    "print(\"2*3=\", 2*3)\n",
    "\n",
    "print(\"2/3=\", 2/3)"
   ]
  },
  {
   "cell_type": "markdown",
   "id": "8bdaf0b2",
   "metadata": {},
   "source": [
    "자신의 이름을 출력\n",
    "마크다운에 대해서 배워보자"
   ]
  },
  {
   "cell_type": "markdown",
   "id": "03e00cef",
   "metadata": {},
   "source": [
    "# 헤드 "
   ]
  },
  {
   "cell_type": "markdown",
   "id": "fb076df6",
   "metadata": {},
   "source": [
    "## 헤드\n"
   ]
  },
  {
   "cell_type": "markdown",
   "id": "d1663f09",
   "metadata": {},
   "source": [
    "##### 터틀 그래프"
   ]
  },
  {
   "cell_type": "code",
   "execution_count": 29,
   "id": "02e1c09c",
   "metadata": {},
   "outputs": [
    {
     "ename": "Terminator",
     "evalue": "",
     "output_type": "error",
     "traceback": [
      "\u001b[1;31m---------------------------------------------------------------------------\u001b[0m",
      "\u001b[1;31mTerminator\u001b[0m                                Traceback (most recent call last)",
      "\u001b[1;32m<ipython-input-29-4ebf3c184165>\u001b[0m in \u001b[0;36m<module>\u001b[1;34m\u001b[0m\n\u001b[0;32m     12\u001b[0m \u001b[1;33m\u001b[0m\u001b[0m\n\u001b[0;32m     13\u001b[0m \u001b[0mturtle\u001b[0m\u001b[1;33m.\u001b[0m\u001b[0mmainloop\u001b[0m\u001b[1;33m(\u001b[0m\u001b[1;33m)\u001b[0m\u001b[1;33m\u001b[0m\u001b[1;33m\u001b[0m\u001b[0m\n\u001b[1;32m---> 14\u001b[1;33m \u001b[0mturtle\u001b[0m\u001b[1;33m.\u001b[0m\u001b[0mbye\u001b[0m\u001b[1;33m(\u001b[0m\u001b[1;33m)\u001b[0m\u001b[1;33m\u001b[0m\u001b[1;33m\u001b[0m\u001b[0m\n\u001b[0m",
      "\u001b[1;32m~\\anaconda31\\lib\\turtle.py\u001b[0m in \u001b[0;36mbye\u001b[1;34m()\u001b[0m\n",
      "\u001b[1;31mTerminator\u001b[0m: "
     ]
    }
   ],
   "source": [
    "import turtle\n",
    "\n",
    "t= turtle.Turtle()\n",
    "t.shape(\"turtle\")\n",
    "\n",
    "\n",
    "t.forward(300)\n",
    "t.left(120)\n",
    "t.forward(300)\n",
    "t.left(120)\n",
    "t. forward(300)\n",
    "\n",
    "turtle.mainloop()\n",
    "turtle.bye()"
   ]
  },
  {
   "cell_type": "code",
   "execution_count": null,
   "id": "d54fef34",
   "metadata": {},
   "outputs": [],
   "source": []
  },
  {
   "cell_type": "code",
   "execution_count": null,
   "id": "0e688210",
   "metadata": {},
   "outputs": [],
   "source": []
  },
  {
   "cell_type": "code",
   "execution_count": null,
   "id": "81b7886e",
   "metadata": {},
   "outputs": [],
   "source": []
  },
  {
   "cell_type": "code",
   "execution_count": null,
   "id": "0c81fbe4",
   "metadata": {},
   "outputs": [],
   "source": []
  },
  {
   "cell_type": "code",
   "execution_count": null,
   "id": "d2c28d8c",
   "metadata": {},
   "outputs": [],
   "source": []
  }
 ],
 "metadata": {
  "kernelspec": {
   "display_name": "Python 3",
   "language": "python",
   "name": "python3"
  },
  "language_info": {
   "codemirror_mode": {
    "name": "ipython",
    "version": 3
   },
   "file_extension": ".py",
   "mimetype": "text/x-python",
   "name": "python",
   "nbconvert_exporter": "python",
   "pygments_lexer": "ipython3",
   "version": "3.8.8"
  }
 },
 "nbformat": 4,
 "nbformat_minor": 5
}
