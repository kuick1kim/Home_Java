{
 "cells": [
  {
   "cell_type": "code",
   "execution_count": 14,
   "id": "e26b5c33",
   "metadata": {},
   "outputs": [
    {
     "ename": "TypeError",
     "evalue": "__init__() takes 1 positional argument but 2 were given",
     "output_type": "error",
     "traceback": [
      "\u001b[1;31m---------------------------------------------------------------------------\u001b[0m",
      "\u001b[1;31mTypeError\u001b[0m                                 Traceback (most recent call last)",
      "\u001b[1;32m<ipython-input-14-78204050ca8b>\u001b[0m in \u001b[0;36m<module>\u001b[1;34m\u001b[0m\n\u001b[0;32m      5\u001b[0m         \u001b[0mself\u001b[0m\u001b[1;33m.\u001b[0m\u001b[0mcount\u001b[0m \u001b[1;33m+=\u001b[0m \u001b[1;36m1\u001b[0m\u001b[1;33m\u001b[0m\u001b[1;33m\u001b[0m\u001b[0m\n\u001b[0;32m      6\u001b[0m \u001b[1;33m\u001b[0m\u001b[0m\n\u001b[1;32m----> 7\u001b[1;33m \u001b[0ma\u001b[0m \u001b[1;33m=\u001b[0m \u001b[0mCounter\u001b[0m\u001b[1;33m(\u001b[0m\u001b[1;36m0\u001b[0m\u001b[1;33m)\u001b[0m\u001b[1;33m\u001b[0m\u001b[1;33m\u001b[0m\u001b[0m\n\u001b[0m\u001b[0;32m      8\u001b[0m \u001b[1;31m# b = Counter(100)\u001b[0m\u001b[1;33m\u001b[0m\u001b[1;33m\u001b[0m\u001b[1;33m\u001b[0m\u001b[0m\n\u001b[0;32m      9\u001b[0m \u001b[1;31m# c = Counter(50)\u001b[0m\u001b[1;33m\u001b[0m\u001b[1;33m\u001b[0m\u001b[1;33m\u001b[0m\u001b[0m\n",
      "\u001b[1;31mTypeError\u001b[0m: __init__() takes 1 positional argument but 2 were given"
     ]
    }
   ],
   "source": [
    "class Counter:\n",
    "    def __init__(self):\n",
    "        self.count = 0 #변수를 property 속성이라고 함\n",
    "    def increment(self): #<---요거는 함수다 method 방법\n",
    "        self.count += 1 \n",
    "        \n",
    "a = Counter(0)\n",
    "# b = Counter(100)\n",
    "# c = Counter(50)\n",
    "# d = Counter(30)\n",
    "a.increment(10)\n",
    "# print(\"카운터 값 : \",  a.count)\n",
    "print(a.count)"
   ]
  },
  {
   "cell_type": "code",
   "execution_count": 15,
   "id": "2e61061a",
   "metadata": {},
   "outputs": [
    {
     "name": "stdout",
     "output_type": "stream",
     "text": [
      "자동차 객체를 생성하였습니다. \n",
      "자동차 속도는 0\n",
      "자동차 색상명은 bule\n",
      "자동차 모델은 E-class\n",
      "자동차 속도는 60\n"
     ]
    }
   ],
   "source": [
    "class Car:\n",
    "    def __init__(self, speed, color, model):\n",
    "        \n",
    "        self.speed = speed\n",
    "        self.color = color\n",
    "        self.model = model\n",
    "        \n",
    "    def drive(self):\n",
    "        self.speed = 60\n",
    "        \n",
    "myCar =Car(0, \"bule\", \"E-class\")\n",
    "\n",
    "print(\"자동차 객체를 생성하였습니다. \")\n",
    "print(\"자동차 속도는\", myCar.speed)\n",
    "print(\"자동차 색상명은\", myCar.color)\n",
    "print(\"자동차 모델은\", myCar.model)\n",
    "\n",
    "myCar.drive()\n",
    "print(\"자동차 속도는\", myCar.speed)\n"
   ]
  },
  {
   "cell_type": "code",
   "execution_count": 19,
   "id": "811b9444",
   "metadata": {},
   "outputs": [
    {
     "ename": "AttributeError",
     "evalue": "'Student' object has no attribute '__age'",
     "output_type": "error",
     "traceback": [
      "\u001b[1;31m---------------------------------------------------------------------------\u001b[0m",
      "\u001b[1;31mAttributeError\u001b[0m                            Traceback (most recent call last)",
      "\u001b[1;32m<ipython-input-19-2a4096fc8ae3>\u001b[0m in \u001b[0;36m<module>\u001b[1;34m\u001b[0m\n\u001b[0;32m      5\u001b[0m \u001b[1;33m\u001b[0m\u001b[0m\n\u001b[0;32m      6\u001b[0m \u001b[0mobj\u001b[0m \u001b[1;33m=\u001b[0m \u001b[0mStudent\u001b[0m\u001b[1;33m(\u001b[0m\u001b[1;33m)\u001b[0m\u001b[1;33m\u001b[0m\u001b[1;33m\u001b[0m\u001b[0m\n\u001b[1;32m----> 7\u001b[1;33m \u001b[0mprint\u001b[0m\u001b[1;33m(\u001b[0m\u001b[0mobj\u001b[0m\u001b[1;33m.\u001b[0m\u001b[0m__age\u001b[0m\u001b[1;33m)\u001b[0m\u001b[1;33m\u001b[0m\u001b[1;33m\u001b[0m\u001b[0m\n\u001b[0m\u001b[0;32m      8\u001b[0m \u001b[1;33m\u001b[0m\u001b[0m\n\u001b[0;32m      9\u001b[0m \u001b[1;33m\u001b[0m\u001b[0m\n",
      "\u001b[1;31mAttributeError\u001b[0m: 'Student' object has no attribute '__age'"
     ]
    }
   ],
   "source": [
    "class Student:\n",
    "    def __init__(self, name=None, age=0):\n",
    "        self.__name = name ##두개의 언더바는 private가 된다\n",
    "        self.__age = age ##두개의 언더바는 private가 된다\n",
    "        \n",
    "obj = Student()\n",
    "print(obj.__age)\n",
    "        \n",
    "        "
   ]
  },
  {
   "cell_type": "code",
   "execution_count": 21,
   "id": "bba80a18",
   "metadata": {},
   "outputs": [
    {
     "name": "stdout",
     "output_type": "stream",
     "text": [
      "21\n"
     ]
    }
   ],
   "source": [
    "class Student:\n",
    "    def __init__(self, name=None, age=0):\n",
    "        self.name = name ##두개의 언더바는 private가 된다\n",
    "        self.age = age ##두개의 언더바는 private가 된다\n",
    "        \n",
    "obj = Student(\"hong\", 20)\n",
    "obj.age =21\n",
    "print(obj.age)"
   ]
  },
  {
   "cell_type": "code",
   "execution_count": 30,
   "id": "75eb04b1",
   "metadata": {},
   "outputs": [
    {
     "data": {
      "text/plain": [
       "'Hong'"
      ]
     },
     "execution_count": 30,
     "metadata": {},
     "output_type": "execute_result"
    }
   ],
   "source": [
    "class Student:\n",
    "    def __init__(self, name=None, age=0):\n",
    "        self.__name = name\n",
    "        self.__age = age\n",
    "\n",
    "    def getAge(self):\n",
    "        return self.__age\n",
    "\n",
    "    def getName(self):\n",
    "        return self.__name\n",
    "\n",
    "    def setAge(self, age):\n",
    "        self.__age=age\n",
    "\n",
    "    def setName(self, name):\n",
    "        self.__name=name\n",
    "\n",
    "obj=Student(\"Hong\", 20)\n",
    "obj.getName()"
   ]
  },
  {
   "cell_type": "code",
   "execution_count": 35,
   "id": "a6e388eb",
   "metadata": {},
   "outputs": [
    {
     "name": "stdout",
     "output_type": "stream",
     "text": [
      "통장에서  100 가 출금되었음\n",
      "통장에  10 가 입금되었음\n"
     ]
    },
    {
     "data": {
      "text/plain": [
       "90"
      ]
     },
     "execution_count": 35,
     "metadata": {},
     "output_type": "execute_result"
    }
   ],
   "source": [
    "# 은행 계좌 클래스 \n",
    "class BankAccount:\n",
    "    def __init__(self):\n",
    "        self.__balance = 0\n",
    "        \n",
    "    def withdraw(self, amount):\n",
    "        self.__balance -= amount\n",
    "        print(\"통장에 \", amount, \"가 입금되었음\")\n",
    "        return self.__balance\n",
    "        \n",
    "    def deposit(self, amount):\n",
    "        self.__balance += amount\n",
    "        print(\"통장에서 \", amount, \"가 출금되었음\")\n",
    "        return self.__balance\n",
    "    \n",
    "a = BankAccount()\n",
    "a.deposit(100)\n",
    "a.withdraw(10)\n",
    "    \n",
    "        "
   ]
  },
  {
   "cell_type": "code",
   "execution_count": 51,
   "id": "c9f7d6af",
   "metadata": {},
   "outputs": [
    {
     "name": "stdout",
     "output_type": "stream",
     "text": [
      "방송: 11   소리: 2   켜졌냐?: True\n"
     ]
    }
   ],
   "source": [
    "class Television:\n",
    "    def __init__(self, channel, volume, on):\n",
    "        self.channel =channel\n",
    "        self.volume = volume\n",
    "        self.on = on\n",
    "        \n",
    "    def show(self):\n",
    "        print(\"방송:\",self.channel, \"  소리:\",self.volume, \"  켜졌냐?:\",self.on)\n",
    "        \n",
    "        \n",
    "def setSilentMode(t):\n",
    "    t.volume = 2\n",
    "        \n",
    "myTV = Television(11, 10, True)\n",
    "setSilentMode(myTV)\n",
    "myTV.show()\n"
   ]
  },
  {
   "cell_type": "code",
   "execution_count": 55,
   "id": "df586320",
   "metadata": {},
   "outputs": [
    {
     "name": "stdout",
     "output_type": "stream",
     "text": [
      "Bulldog\n",
      "Bulldog\n",
      "Bulldog\n",
      "\n",
      "Baddk\n",
      "Marry\n",
      "\n",
      "Marry 3\n"
     ]
    }
   ],
   "source": [
    "# 강아지 클래스 해보기\n",
    "\n",
    "class Dog:\n",
    "    kind = \"Bulldog\"\n",
    "    def __init__(self, name, age=0):\n",
    "        self.name =name\n",
    "        self.age =age\n",
    "        \n",
    "a = Dog(\"Baddk\", 2)\n",
    "b = Dog(\"Marry\", 3)\n",
    "\n",
    "print(a.kind)\n",
    "print(b.kind)\n",
    "print(Dog.kind)\n",
    "print()\n",
    "print(a.name)\n",
    "print(b.name)\n",
    "print()\n",
    "print(b.name, b.age)"
   ]
  },
  {
   "cell_type": "code",
   "execution_count": 72,
   "id": "0a59e03f",
   "metadata": {},
   "outputs": [
    {
     "name": "stdout",
     "output_type": "stream",
     "text": [
      "카운트값:200\n"
     ]
    }
   ],
   "source": [
    "# __str__() print 로 출력할때 자동적으로 호출\n",
    "\n",
    "class Counter:\n",
    "    def __init__(self, count=0):\n",
    "        self.count = count\n",
    "    def increment(self):\n",
    "        self.count += 1\n",
    "    def __str__(self):\n",
    "        msg = \"카운트값:\"+ str(self.count)\n",
    "        return msg\n",
    "    \n",
    "a = Counter(200)\n",
    "print(a)"
   ]
  },
  {
   "cell_type": "code",
   "execution_count": 169,
   "id": "076bd584",
   "metadata": {},
   "outputs": [
    {
     "name": "stdout",
     "output_type": "stream",
     "text": [
      "주사위 값은:  2\n",
      "주사위 값은:  3\n"
     ]
    }
   ],
   "source": [
    "# 주사위 해보기 \n",
    "from random import randint\n",
    "\n",
    "class Dice:\n",
    "    def __init__(self, x):#, y):\n",
    "        self.__x = x\n",
    "#         self.__y = y\n",
    "#         self.__size =30\n",
    "        self.__value=1\n",
    "        \n",
    "    def read_dice(self):\n",
    "        return self.__value\n",
    "    \n",
    "    def print_dise(self):\n",
    "        print(\"주사위 값은: \", self.__value)\n",
    "        \n",
    "    def roll_dice(self):\n",
    "        self.__value =randint(1,6)\n",
    "        \n",
    "d=Dice(100)\n",
    "d.roll_dice()\n",
    "d.print_dise()\n",
    "\n",
    "c=Dice(10)\n",
    "c.roll_dice()\n",
    "c.print_dise()\n",
    "\n",
    "        \n",
    "\n"
   ]
  },
  {
   "cell_type": "code",
   "execution_count": null,
   "id": "cf191e51",
   "metadata": {},
   "outputs": [],
   "source": []
  },
  {
   "cell_type": "code",
   "execution_count": null,
   "id": "e1af06be",
   "metadata": {},
   "outputs": [],
   "source": []
  },
  {
   "cell_type": "code",
   "execution_count": null,
   "id": "0a4a2a9c",
   "metadata": {},
   "outputs": [],
   "source": []
  },
  {
   "cell_type": "code",
   "execution_count": null,
   "id": "cc2445dd",
   "metadata": {},
   "outputs": [],
   "source": []
  }
 ],
 "metadata": {
  "kernelspec": {
   "display_name": "Python 3",
   "language": "python",
   "name": "python3"
  },
  "language_info": {
   "codemirror_mode": {
    "name": "ipython",
    "version": 3
   },
   "file_extension": ".py",
   "mimetype": "text/x-python",
   "name": "python",
   "nbconvert_exporter": "python",
   "pygments_lexer": "ipython3",
   "version": "3.8.8"
  }
 },
 "nbformat": 4,
 "nbformat_minor": 5
}
